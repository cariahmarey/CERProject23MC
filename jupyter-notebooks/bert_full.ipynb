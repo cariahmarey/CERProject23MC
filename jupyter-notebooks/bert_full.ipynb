{
 "cells": [
  {
   "cell_type": "code",
   "execution_count": 179,
   "id": "6066950c-8548-4c0c-9577-1c1cdde76e5a",
   "metadata": {},
   "outputs": [],
   "source": [
    "import pandas as pd\n",
    "from datasets import Dataset\n",
    "from transformers import AutoTokenizer\n",
    "from transformers import AutoModelForSequenceClassification, TrainingArguments, Trainer\n",
    "import numpy as np\n",
    "import torch"
   ]
  },
  {
   "cell_type": "code",
   "execution_count": 180,
   "id": "323c3eb1-2ad5-47df-bf48-b0fa7953643a",
   "metadata": {},
   "outputs": [],
   "source": [
    "# Load CSV into a Pandas DataFrame\n",
    "df = pd.read_csv('profiledescriptions_withpartyanduserid.csv', sep=';')"
   ]
  },
  {
   "cell_type": "code",
   "execution_count": 181,
   "id": "259b62c2-1f66-4d0c-8f4b-c2f6f0ec2818",
   "metadata": {},
   "outputs": [
    {
     "data": {
      "text/html": [
       "<div>\n",
       "<style scoped>\n",
       "    .dataframe tbody tr th:only-of-type {\n",
       "        vertical-align: middle;\n",
       "    }\n",
       "\n",
       "    .dataframe tbody tr th {\n",
       "        vertical-align: top;\n",
       "    }\n",
       "\n",
       "    .dataframe thead th {\n",
       "        text-align: right;\n",
       "    }\n",
       "</style>\n",
       "<table border=\"1\" class=\"dataframe\">\n",
       "  <thead>\n",
       "    <tr style=\"text-align: right;\">\n",
       "      <th></th>\n",
       "      <th>X</th>\n",
       "      <th>twitter_handle</th>\n",
       "      <th>profile</th>\n",
       "      <th>user_id</th>\n",
       "      <th>party</th>\n",
       "    </tr>\n",
       "  </thead>\n",
       "  <tbody>\n",
       "    <tr>\n",
       "      <th>0</th>\n",
       "      <td>0</td>\n",
       "      <td>ManjaSchuele</td>\n",
       "      <td>Ministerin für Wissenschaft, Forschung und Kul...</td>\n",
       "      <td>8,27091E+17</td>\n",
       "      <td>SPD</td>\n",
       "    </tr>\n",
       "    <tr>\n",
       "      <th>1</th>\n",
       "      <td>1</td>\n",
       "      <td>TeamPetraPau</td>\n",
       "      <td>hier twittert das Team von Petra Pau/Marzahn-H...</td>\n",
       "      <td>1683845126</td>\n",
       "      <td>DIE LINKE</td>\n",
       "    </tr>\n",
       "    <tr>\n",
       "      <th>2</th>\n",
       "      <td>2</td>\n",
       "      <td>TeamDieSchmidt</td>\n",
       "      <td>Hier tweetet, textet und publiziert das Team d...</td>\n",
       "      <td>1377117206</td>\n",
       "      <td>SPD</td>\n",
       "    </tr>\n",
       "    <tr>\n",
       "      <th>3</th>\n",
       "      <td>3</td>\n",
       "      <td>reinhardbrandl</td>\n",
       "      <td>Mitglied im Verteidigungsausschuss 🇺🇦 \\nMitgli...</td>\n",
       "      <td>262730721</td>\n",
       "      <td>CSU</td>\n",
       "    </tr>\n",
       "    <tr>\n",
       "      <th>4</th>\n",
       "      <td>4</td>\n",
       "      <td>schwarz_spd</td>\n",
       "      <td>SPD Bundestagskandidat für Bamberg und Forchhe...</td>\n",
       "      <td>53617577</td>\n",
       "      <td>SPD</td>\n",
       "    </tr>\n",
       "  </tbody>\n",
       "</table>\n",
       "</div>"
      ],
      "text/plain": [
       "   X  twitter_handle                                            profile  \\\n",
       "0  0    ManjaSchuele  Ministerin für Wissenschaft, Forschung und Kul...   \n",
       "1  1    TeamPetraPau  hier twittert das Team von Petra Pau/Marzahn-H...   \n",
       "2  2  TeamDieSchmidt  Hier tweetet, textet und publiziert das Team d...   \n",
       "3  3  reinhardbrandl  Mitglied im Verteidigungsausschuss 🇺🇦 \\nMitgli...   \n",
       "4  4     schwarz_spd  SPD Bundestagskandidat für Bamberg und Forchhe...   \n",
       "\n",
       "       user_id      party  \n",
       "0  8,27091E+17        SPD  \n",
       "1   1683845126  DIE LINKE  \n",
       "2   1377117206        SPD  \n",
       "3    262730721        CSU  \n",
       "4     53617577        SPD  "
      ]
     },
     "execution_count": 181,
     "metadata": {},
     "output_type": "execute_result"
    }
   ],
   "source": [
    "df.head()"
   ]
  },
  {
   "cell_type": "code",
   "execution_count": 182,
   "id": "62923c00-4911-47d0-bfd1-fa9c8b9b49ae",
   "metadata": {},
   "outputs": [
    {
     "data": {
      "text/plain": [
       "(2049, 5)"
      ]
     },
     "execution_count": 182,
     "metadata": {},
     "output_type": "execute_result"
    }
   ],
   "source": [
    "df.shape"
   ]
  },
  {
   "cell_type": "code",
   "execution_count": 183,
   "id": "b3dc2e45-3ff8-4ac8-aa80-c13d93859a50",
   "metadata": {},
   "outputs": [],
   "source": [
    "df_test = pd.read_csv('labeled_testdata_bert.csv')"
   ]
  },
  {
   "cell_type": "code",
   "execution_count": 184,
   "id": "8508fc4e-4c84-4726-8be7-18a1f8d16d6a",
   "metadata": {},
   "outputs": [
    {
     "data": {
      "text/html": [
       "<div>\n",
       "<style scoped>\n",
       "    .dataframe tbody tr th:only-of-type {\n",
       "        vertical-align: middle;\n",
       "    }\n",
       "\n",
       "    .dataframe tbody tr th {\n",
       "        vertical-align: top;\n",
       "    }\n",
       "\n",
       "    .dataframe thead th {\n",
       "        text-align: right;\n",
       "    }\n",
       "</style>\n",
       "<table border=\"1\" class=\"dataframe\">\n",
       "  <thead>\n",
       "    <tr style=\"text-align: right;\">\n",
       "      <th></th>\n",
       "      <th>X</th>\n",
       "      <th>twitter_handle</th>\n",
       "      <th>example</th>\n",
       "      <th>user_id</th>\n",
       "      <th>party</th>\n",
       "      <th>label</th>\n",
       "    </tr>\n",
       "  </thead>\n",
       "  <tbody>\n",
       "    <tr>\n",
       "      <th>0</th>\n",
       "      <td>1789</td>\n",
       "      <td>ABaerbock</td>\n",
       "      <td>Offizieller Twitter Account von Außenministeri...</td>\n",
       "      <td>1.269262e+18</td>\n",
       "      <td>Bündnis 90/Die Grünen</td>\n",
       "      <td>1</td>\n",
       "    </tr>\n",
       "    <tr>\n",
       "      <th>1</th>\n",
       "      <td>190</td>\n",
       "      <td>ABaerbockArchiv</td>\n",
       "      <td>Dies ist ein Archiv des Twitter-Accounts von A...</td>\n",
       "      <td>2.179011e+09</td>\n",
       "      <td>Bündnis 90/Die Grünen</td>\n",
       "      <td>1</td>\n",
       "    </tr>\n",
       "    <tr>\n",
       "      <th>2</th>\n",
       "      <td>920</td>\n",
       "      <td>ACvA_MdL</td>\n",
       "      <td>Landtagsabgeordnete der @cdufraktionmv, stellv...</td>\n",
       "      <td>1.218517e+18</td>\n",
       "      <td>CDU</td>\n",
       "      <td>3</td>\n",
       "    </tr>\n",
       "    <tr>\n",
       "      <th>3</th>\n",
       "      <td>822</td>\n",
       "      <td>ADressel</td>\n",
       "      <td>Finanzsenator der Freien und Hansestadt Hambur...</td>\n",
       "      <td>1.053199e+18</td>\n",
       "      <td>SPD</td>\n",
       "      <td>2</td>\n",
       "    </tr>\n",
       "    <tr>\n",
       "      <th>4</th>\n",
       "      <td>1202</td>\n",
       "      <td>AG_AfD</td>\n",
       "      <td>Vorstehender der Bundestagsfraktion der Altern...</td>\n",
       "      <td>9.126128e+17</td>\n",
       "      <td>AfD</td>\n",
       "      <td>5</td>\n",
       "    </tr>\n",
       "  </tbody>\n",
       "</table>\n",
       "</div>"
      ],
      "text/plain": [
       "      X   twitter_handle                                            example  \\\n",
       "0  1789        ABaerbock  Offizieller Twitter Account von Außenministeri...   \n",
       "1   190  ABaerbockArchiv  Dies ist ein Archiv des Twitter-Accounts von A...   \n",
       "2   920         ACvA_MdL  Landtagsabgeordnete der @cdufraktionmv, stellv...   \n",
       "3   822         ADressel  Finanzsenator der Freien und Hansestadt Hambur...   \n",
       "4  1202           AG_AfD  Vorstehender der Bundestagsfraktion der Altern...   \n",
       "\n",
       "        user_id                  party  label  \n",
       "0  1.269262e+18  Bündnis 90/Die Grünen      1  \n",
       "1  2.179011e+09  Bündnis 90/Die Grünen      1  \n",
       "2  1.218517e+18                    CDU      3  \n",
       "3  1.053199e+18                    SPD      2  \n",
       "4  9.126128e+17                    AfD      5  "
      ]
     },
     "execution_count": 184,
     "metadata": {},
     "output_type": "execute_result"
    }
   ],
   "source": [
    "df_test.head()"
   ]
  },
  {
   "cell_type": "code",
   "execution_count": 185,
   "id": "497068f4-6af0-4a1b-aa91-791c14e6bcd0",
   "metadata": {},
   "outputs": [
    {
     "data": {
      "text/plain": [
       "(200, 6)"
      ]
     },
     "execution_count": 185,
     "metadata": {},
     "output_type": "execute_result"
    }
   ],
   "source": [
    "df_test.shape"
   ]
  },
  {
   "cell_type": "code",
   "execution_count": 186,
   "id": "742d1764-da94-4d56-9f59-cf65c776f0c5",
   "metadata": {},
   "outputs": [],
   "source": [
    "df = df[~df['X'].isin(df_test['X'])]"
   ]
  },
  {
   "cell_type": "code",
   "execution_count": 187,
   "id": "4de893fa-a58d-4d65-aee4-64d49da4b951",
   "metadata": {},
   "outputs": [
    {
     "data": {
      "text/html": [
       "<div>\n",
       "<style scoped>\n",
       "    .dataframe tbody tr th:only-of-type {\n",
       "        vertical-align: middle;\n",
       "    }\n",
       "\n",
       "    .dataframe tbody tr th {\n",
       "        vertical-align: top;\n",
       "    }\n",
       "\n",
       "    .dataframe thead th {\n",
       "        text-align: right;\n",
       "    }\n",
       "</style>\n",
       "<table border=\"1\" class=\"dataframe\">\n",
       "  <thead>\n",
       "    <tr style=\"text-align: right;\">\n",
       "      <th></th>\n",
       "      <th>X</th>\n",
       "      <th>twitter_handle</th>\n",
       "      <th>profile</th>\n",
       "      <th>user_id</th>\n",
       "      <th>party</th>\n",
       "    </tr>\n",
       "  </thead>\n",
       "  <tbody>\n",
       "    <tr>\n",
       "      <th>0</th>\n",
       "      <td>0</td>\n",
       "      <td>ManjaSchuele</td>\n",
       "      <td>Ministerin für Wissenschaft, Forschung und Kul...</td>\n",
       "      <td>8,27091E+17</td>\n",
       "      <td>SPD</td>\n",
       "    </tr>\n",
       "    <tr>\n",
       "      <th>1</th>\n",
       "      <td>1</td>\n",
       "      <td>TeamPetraPau</td>\n",
       "      <td>hier twittert das Team von Petra Pau/Marzahn-H...</td>\n",
       "      <td>1683845126</td>\n",
       "      <td>DIE LINKE</td>\n",
       "    </tr>\n",
       "    <tr>\n",
       "      <th>2</th>\n",
       "      <td>2</td>\n",
       "      <td>TeamDieSchmidt</td>\n",
       "      <td>Hier tweetet, textet und publiziert das Team d...</td>\n",
       "      <td>1377117206</td>\n",
       "      <td>SPD</td>\n",
       "    </tr>\n",
       "    <tr>\n",
       "      <th>3</th>\n",
       "      <td>3</td>\n",
       "      <td>reinhardbrandl</td>\n",
       "      <td>Mitglied im Verteidigungsausschuss 🇺🇦 \\nMitgli...</td>\n",
       "      <td>262730721</td>\n",
       "      <td>CSU</td>\n",
       "    </tr>\n",
       "    <tr>\n",
       "      <th>4</th>\n",
       "      <td>4</td>\n",
       "      <td>schwarz_spd</td>\n",
       "      <td>SPD Bundestagskandidat für Bamberg und Forchhe...</td>\n",
       "      <td>53617577</td>\n",
       "      <td>SPD</td>\n",
       "    </tr>\n",
       "  </tbody>\n",
       "</table>\n",
       "</div>"
      ],
      "text/plain": [
       "   X  twitter_handle                                            profile  \\\n",
       "0  0    ManjaSchuele  Ministerin für Wissenschaft, Forschung und Kul...   \n",
       "1  1    TeamPetraPau  hier twittert das Team von Petra Pau/Marzahn-H...   \n",
       "2  2  TeamDieSchmidt  Hier tweetet, textet und publiziert das Team d...   \n",
       "3  3  reinhardbrandl  Mitglied im Verteidigungsausschuss 🇺🇦 \\nMitgli...   \n",
       "4  4     schwarz_spd  SPD Bundestagskandidat für Bamberg und Forchhe...   \n",
       "\n",
       "       user_id      party  \n",
       "0  8,27091E+17        SPD  \n",
       "1   1683845126  DIE LINKE  \n",
       "2   1377117206        SPD  \n",
       "3    262730721        CSU  \n",
       "4     53617577        SPD  "
      ]
     },
     "execution_count": 187,
     "metadata": {},
     "output_type": "execute_result"
    }
   ],
   "source": [
    "df.head()"
   ]
  },
  {
   "cell_type": "code",
   "execution_count": 188,
   "id": "fd4364c8-9c5e-4131-8fd7-8f570b22c5e3",
   "metadata": {},
   "outputs": [
    {
     "data": {
      "text/plain": [
       "(1860, 5)"
      ]
     },
     "execution_count": 188,
     "metadata": {},
     "output_type": "execute_result"
    }
   ],
   "source": [
    "df.shape"
   ]
  },
  {
   "cell_type": "code",
   "execution_count": 189,
   "id": "889666d8-bf60-4104-9ca4-f81b9b85c18e",
   "metadata": {},
   "outputs": [
    {
     "name": "stdout",
     "output_type": "stream",
     "text": [
      "Unique Parties: ['SPD' 'DIE LINKE' 'CSU' 'AfD' 'Bündnis 90/Die Grünen' 'FDP' 'CDU'\n",
      " 'Liberal-Konservative Reformer' 'Christliche Mitte'\n",
      " 'Bürgerbewegung pro NRW' 'Bürgerrechtsbewegung Solidarität' 'ÖDP'\n",
      " 'DIE PARTEI' 'Bayernpartei' 'Sozialistische Gleichheitspartei'\n",
      " 'Piratenpartei' 'no party affiliation' 'Renew Europe'\n",
      " 'Europäische Volkspartei' 'Freie Wähler' 'BIW' 'LKR' 'Die Föderalen'\n",
      " 'SSW' 'Thüringer Heimatpartei' 'buendnis21' 'UNABHAENGIGE Partei'\n",
      " 'Klimaliste Baden-Württemberg' 'dieBasis' 'Wir2020'\n",
      " 'Deutsche Kommunistische Partei DKP' 'PdF' 'Volt Deutschland' 'MLPD'\n",
      " 'Die Urbane' 'Demokratie in Bewegung' 'Partei für Gesundheitsforschung'\n",
      " 'V-Partei³' 'Graue Panther' 'Bündnis C' 'Team Todenhöfer'\n",
      " 'Partei der Humanisten' 'MENSCHLICHE WELT' 'Tierschutzpartei'\n",
      " 'Dt. Konservative' 'Liberale Demokraten' 'FW' nan]\n",
      "\n",
      "Value counts:\n",
      " party\n",
      "SPD                                   417\n",
      "Bündnis 90/Die Grünen                 380\n",
      "CDU                                   314\n",
      "FDP                                   199\n",
      "AfD                                   190\n",
      "DIE LINKE                             165\n",
      "CSU                                    68\n",
      "Freie Wähler                           15\n",
      "no party affiliation                    6\n",
      "SSW                                     4\n",
      "DIE PARTEI                              3\n",
      "Europäische Volkspartei                 3\n",
      "ÖDP                                     2\n",
      "Piratenpartei                           2\n",
      "Liberal-Konservative Reformer           2\n",
      "Bürgerrechtsbewegung Solidarität        1\n",
      "Graue Panther                           1\n",
      "MLPD                                    1\n",
      "Die Urbane                              1\n",
      "Demokratie in Bewegung                  1\n",
      "Partei für Gesundheitsforschung         1\n",
      "V-Partei³                               1\n",
      "Team Todenhöfer                         1\n",
      "Bündnis C                               1\n",
      "PdF                                     1\n",
      "Partei der Humanisten                   1\n",
      "MENSCHLICHE WELT                        1\n",
      "Tierschutzpartei                        1\n",
      "Dt. Konservative                        1\n",
      "Liberale Demokraten                     1\n",
      "Volt Deutschland                        1\n",
      "dieBasis                                1\n",
      "Deutsche Kommunistische Partei DKP      1\n",
      "Wir2020                                 1\n",
      "Klimaliste Baden-Württemberg            1\n",
      "UNABHAENGIGE Partei                     1\n",
      "buendnis21                              1\n",
      "Thüringer Heimatpartei                  1\n",
      "Die Föderalen                           1\n",
      "LKR                                     1\n",
      "BIW                                     1\n",
      "Christliche Mitte                       1\n",
      "Renew Europe                            1\n",
      "Bürgerbewegung pro NRW                  1\n",
      "Sozialistische Gleichheitspartei        1\n",
      "Bayernpartei                            1\n",
      "FW                                      1\n",
      "Name: count, dtype: int64\n"
     ]
    }
   ],
   "source": [
    "# Get unique values in a specific column\n",
    "\n",
    "def analyze_party_distribution(column):\n",
    "    # Get unique values in a specific column\n",
    "    unique_values = column.unique()\n",
    "    print(\"Unique Parties:\", unique_values)\n",
    "\n",
    "    # Get count of each unique value in the column\n",
    "    value_counts = column.value_counts()\n",
    "    print(\"\\nValue counts:\\n\", value_counts)\n",
    " \n",
    "analyze_party_distribution(df['party'])"
   ]
  },
  {
   "cell_type": "code",
   "execution_count": 190,
   "id": "7cb5e0cb-0660-44bd-9099-4309f3038476",
   "metadata": {},
   "outputs": [],
   "source": [
    "party2id = {\n",
    "    \"DIE LINKE\": 0,\n",
    "    \"Bündnis 90/Die Grünen\": 1,\n",
    "    \"SPD\": 2,\n",
    "    \"CSU\": 3,\n",
    "    \"CDU\": 3,\n",
    "    \"FDP\": 4,\n",
    "    \"AfD\": 5,\n",
    "    \"Keine Kategorie\": 6\n",
    "}"
   ]
  },
  {
   "cell_type": "markdown",
   "id": "9c8e329c-b7da-436c-bdfd-22d946f94c5b",
   "metadata": {},
   "source": [
    "### Just keep the party names from above and change any other party to \"Keine Kategorie\""
   ]
  },
  {
   "cell_type": "code",
   "execution_count": 191,
   "id": "809c4810-e235-4b7d-abcf-02c5137ddfb9",
   "metadata": {},
   "outputs": [],
   "source": [
    "# List of valid party names\n",
    "valid_parties = [\"DIE LINKE\", \"Bündnis 90/Die Grünen\", \"SPD\", \"CSU\", \"CDU\", \"FDP\", \"AfD\"]\n",
    "\n",
    "\n",
    "# Function to map party names\n",
    "def map_parties(party):\n",
    "    if party in valid_parties:\n",
    "        return party\n",
    "    else:\n",
    "        return \"Keine Kategorie\"\n",
    "\n",
    "# Apply the function to the 'Party' column\n",
    "df.loc[:,'party'] = df['party'].apply(map_parties)"
   ]
  },
  {
   "cell_type": "code",
   "execution_count": 192,
   "id": "a9337fed-c377-4efd-ae4f-999ecf768a6f",
   "metadata": {},
   "outputs": [
    {
     "name": "stdout",
     "output_type": "stream",
     "text": [
      "Unique Parties: ['SPD' 'DIE LINKE' 'CSU' 'AfD' 'Bündnis 90/Die Grünen' 'FDP' 'CDU'\n",
      " 'Keine Kategorie']\n",
      "\n",
      "Value counts:\n",
      " party\n",
      "SPD                      417\n",
      "Bündnis 90/Die Grünen    380\n",
      "CDU                      314\n",
      "FDP                      199\n",
      "AfD                      190\n",
      "DIE LINKE                165\n",
      "Keine Kategorie          127\n",
      "CSU                       68\n",
      "Name: count, dtype: int64\n"
     ]
    }
   ],
   "source": [
    "analyze_party_distribution(df['party'])"
   ]
  },
  {
   "cell_type": "markdown",
   "id": "6075557f-88e5-4cdf-be27-5672b7b548e4",
   "metadata": {},
   "source": [
    "### Map partys to label"
   ]
  },
  {
   "cell_type": "code",
   "execution_count": 193,
   "id": "15bb7401-bd11-43cd-98bb-1fb17e57914f",
   "metadata": {},
   "outputs": [],
   "source": [
    "df.loc[:,\"label\"] = df[\"party\"].map(party2id.get)"
   ]
  },
  {
   "cell_type": "code",
   "execution_count": 194,
   "id": "0b8f77a3-15d5-4fe1-8b30-1d7091ffb751",
   "metadata": {},
   "outputs": [],
   "source": [
    "# just to be sure that theres no na value and every value is an integer\n",
    "# drop everything except of profile description and label\n",
    "df = df[df['label'].notna()]\n",
    "df['label'] = df['label'].astype(int)\n",
    "df = df[['profile', 'label']]"
   ]
  },
  {
   "cell_type": "code",
   "execution_count": 195,
   "id": "4b2689a3-8d89-416b-9ce7-20d06ee9f2eb",
   "metadata": {},
   "outputs": [
    {
     "data": {
      "text/html": [
       "<div>\n",
       "<style scoped>\n",
       "    .dataframe tbody tr th:only-of-type {\n",
       "        vertical-align: middle;\n",
       "    }\n",
       "\n",
       "    .dataframe tbody tr th {\n",
       "        vertical-align: top;\n",
       "    }\n",
       "\n",
       "    .dataframe thead th {\n",
       "        text-align: right;\n",
       "    }\n",
       "</style>\n",
       "<table border=\"1\" class=\"dataframe\">\n",
       "  <thead>\n",
       "    <tr style=\"text-align: right;\">\n",
       "      <th></th>\n",
       "      <th>profile</th>\n",
       "      <th>label</th>\n",
       "    </tr>\n",
       "  </thead>\n",
       "  <tbody>\n",
       "    <tr>\n",
       "      <th>0</th>\n",
       "      <td>Ministerin für Wissenschaft, Forschung und Kul...</td>\n",
       "      <td>2</td>\n",
       "    </tr>\n",
       "    <tr>\n",
       "      <th>1</th>\n",
       "      <td>hier twittert das Team von Petra Pau/Marzahn-H...</td>\n",
       "      <td>0</td>\n",
       "    </tr>\n",
       "    <tr>\n",
       "      <th>2</th>\n",
       "      <td>Hier tweetet, textet und publiziert das Team d...</td>\n",
       "      <td>2</td>\n",
       "    </tr>\n",
       "    <tr>\n",
       "      <th>3</th>\n",
       "      <td>Mitglied im Verteidigungsausschuss 🇺🇦 \\nMitgli...</td>\n",
       "      <td>3</td>\n",
       "    </tr>\n",
       "    <tr>\n",
       "      <th>4</th>\n",
       "      <td>SPD Bundestagskandidat für Bamberg und Forchhe...</td>\n",
       "      <td>2</td>\n",
       "    </tr>\n",
       "  </tbody>\n",
       "</table>\n",
       "</div>"
      ],
      "text/plain": [
       "                                             profile  label\n",
       "0  Ministerin für Wissenschaft, Forschung und Kul...      2\n",
       "1  hier twittert das Team von Petra Pau/Marzahn-H...      0\n",
       "2  Hier tweetet, textet und publiziert das Team d...      2\n",
       "3  Mitglied im Verteidigungsausschuss 🇺🇦 \\nMitgli...      3\n",
       "4  SPD Bundestagskandidat für Bamberg und Forchhe...      2"
      ]
     },
     "execution_count": 195,
     "metadata": {},
     "output_type": "execute_result"
    }
   ],
   "source": [
    "df.head()"
   ]
  },
  {
   "cell_type": "markdown",
   "id": "477dce6d-afef-4dad-a5e8-dca338b4f4f8",
   "metadata": {},
   "source": [
    "#### Converting emojis to text using pip package emoji"
   ]
  },
  {
   "cell_type": "code",
   "execution_count": 196,
   "id": "e3695653-d72c-4df0-a12e-d529e89d4bea",
   "metadata": {},
   "outputs": [],
   "source": [
    "import emoji\n",
    "import string\n",
    "import re\n",
    "\n",
    "def demojize(text):\n",
    "    # Convert emoji to text\n",
    "    processed_text = emoji.demojize(text, language='de')\n",
    "    # Remove ':' from converting the emojis to text\n",
    "    for char in string.punctuation.replace('.', ''):\n",
    "        processed_text = processed_text.replace(char, ' ')\n",
    "    # Remove trailing whitespace\n",
    "    processed_text = re.sub(r'\\s+', ' ', processed_text).strip()\n",
    "    return processed_text\n",
    "\n",
    "df['profile'] = df['profile'].apply(lambda x: demojize(x))"
   ]
  },
  {
   "cell_type": "code",
   "execution_count": 197,
   "id": "ca2cb4a2-5701-446f-b03f-6b58883a0fd5",
   "metadata": {},
   "outputs": [
    {
     "data": {
      "text/plain": [
       "'hier twittert das Team von Petra Pau Marzahn Hellersdorf mahe PAUer für die LINKE'"
      ]
     },
     "execution_count": 197,
     "metadata": {},
     "output_type": "execute_result"
    }
   ],
   "source": [
    "df['profile'][1]"
   ]
  },
  {
   "cell_type": "code",
   "execution_count": 198,
   "id": "2d94e6aa-d447-4f76-a022-b8b9cf5eb72c",
   "metadata": {},
   "outputs": [
    {
     "data": {
      "application/vnd.jupyter.widget-view+json": {
       "model_id": "67e1c8a99e404b369d122a58570c5031",
       "version_major": 2,
       "version_minor": 0
      },
      "text/plain": [
       "Downloading (…)okenizer_config.json:   0%|          | 0.00/29.0 [00:00<?, ?B/s]"
      ]
     },
     "metadata": {},
     "output_type": "display_data"
    },
    {
     "data": {
      "application/vnd.jupyter.widget-view+json": {
       "model_id": "70386b7ff249414cb5c99a8ead3090f5",
       "version_major": 2,
       "version_minor": 0
      },
      "text/plain": [
       "Downloading (…)lve/main/config.json:   0%|          | 0.00/433 [00:00<?, ?B/s]"
      ]
     },
     "metadata": {},
     "output_type": "display_data"
    },
    {
     "data": {
      "application/vnd.jupyter.widget-view+json": {
       "model_id": "bb491354384d484091bc929fbeeffe4c",
       "version_major": 2,
       "version_minor": 0
      },
      "text/plain": [
       "Downloading (…)solve/main/vocab.txt:   0%|          | 0.00/255k [00:00<?, ?B/s]"
      ]
     },
     "metadata": {},
     "output_type": "display_data"
    },
    {
     "data": {
      "application/vnd.jupyter.widget-view+json": {
       "model_id": "addb13eb780a421e968b99c3b94887d9",
       "version_major": 2,
       "version_minor": 0
      },
      "text/plain": [
       "Downloading (…)/main/tokenizer.json:   0%|          | 0.00/485k [00:00<?, ?B/s]"
      ]
     },
     "metadata": {},
     "output_type": "display_data"
    }
   ],
   "source": [
    "# Load the BERT tokenizer\n",
    "pretrained_LM = \"bert-base-german-cased\"\n",
    "#pretrained_LM = \"distilbert-base-german-cased\"\n",
    "tokenizer = AutoTokenizer.from_pretrained(pretrained_LM)\n",
    "\n",
    "def tokenize_function(examples):\n",
    "    return tokenizer(examples[\"profile\"], padding=\"max_length\", truncation=True, return_tensors=\"pt\")"
   ]
  },
  {
   "cell_type": "code",
   "execution_count": 199,
   "id": "e504c928-3374-4d8d-b5d8-fedb7777318a",
   "metadata": {},
   "outputs": [],
   "source": [
    "# Split into training and testing data\n",
    "training_data = df.sample(frac=0.8, random_state=25)\n",
    "testing_data = df.drop(training_data.index)"
   ]
  },
  {
   "cell_type": "code",
   "execution_count": 200,
   "id": "987aea14-7831-40ef-b49a-d3302da8d26e",
   "metadata": {},
   "outputs": [
    {
     "data": {
      "application/vnd.jupyter.widget-view+json": {
       "model_id": "eaf1f3ce69924fa3a4520615a1dfceb6",
       "version_major": 2,
       "version_minor": 0
      },
      "text/plain": [
       "Map:   0%|          | 0/1488 [00:00<?, ? examples/s]"
      ]
     },
     "metadata": {},
     "output_type": "display_data"
    },
    {
     "data": {
      "application/vnd.jupyter.widget-view+json": {
       "model_id": "f0e192904dcc44d28ea632620cf5ab84",
       "version_major": 2,
       "version_minor": 0
      },
      "text/plain": [
       "Map:   0%|          | 0/372 [00:00<?, ? examples/s]"
      ]
     },
     "metadata": {},
     "output_type": "display_data"
    }
   ],
   "source": [
    "# Load datasets\n",
    "training_data = Dataset.from_pandas(training_data)\n",
    "testing_data = Dataset.from_pandas(testing_data)\n",
    "\n",
    "tokenized_training_data = training_data.map(tokenize_function, batched=True)\n",
    "tokenized_testing_data = testing_data.map(tokenize_function, batched=True)"
   ]
  },
  {
   "cell_type": "code",
   "execution_count": 201,
   "id": "3b512da3-35b0-4f11-896e-5e37bf778627",
   "metadata": {},
   "outputs": [
    {
     "data": {
      "text/plain": [
       "DataCollatorWithPadding(tokenizer=BertTokenizerFast(name_or_path='bert-base-german-cased', vocab_size=30000, model_max_length=512, is_fast=True, padding_side='right', truncation_side='right', special_tokens={'unk_token': '[UNK]', 'sep_token': '[SEP]', 'pad_token': '[PAD]', 'cls_token': '[CLS]', 'mask_token': '[MASK]'}, clean_up_tokenization_spaces=True), padding=True, max_length=None, pad_to_multiple_of=None, return_tensors='pt')"
      ]
     },
     "execution_count": 201,
     "metadata": {},
     "output_type": "execute_result"
    }
   ],
   "source": [
    "from transformers import DataCollatorWithPadding\n",
    "data_collator = DataCollatorWithPadding(tokenizer=tokenizer)\n",
    "data_collator"
   ]
  },
  {
   "cell_type": "code",
   "execution_count": 206,
   "id": "2a3cafb7-7c50-4f57-994b-1ee8d40934f5",
   "metadata": {},
   "outputs": [],
   "source": [
    "from sklearn.metrics import precision_recall_fscore_support, accuracy_score\n",
    "\n",
    "# Good link about which average to choose: https://simonhessner.de/why-are-precision-recall-and-f1-score-equal-when-using-micro-averaging-in-a-multi-class-problem/\n",
    "# micro: Calculate metrics globally by counting the total true positives, false negatives and false positives.\n",
    "# macro: Calculate metrics for each label, and find their unweighted mean. This does not take label imbalance into account.\n",
    "\n",
    "def compute_metrics(pred):\n",
    "    labels = pred.label_ids\n",
    "    preds = pred.predictions.argmax(-1)\n",
    "    precision, recall, f1, _ = precision_recall_fscore_support(labels, preds, average='macro')\n",
    "    acc = accuracy_score(labels, preds)\n",
    "    return {\n",
    "        'accuracy': acc,\n",
    "        'f1': f1,\n",
    "        'precision': precision,\n",
    "        'recall': recall\n",
    "    }"
   ]
  },
  {
   "cell_type": "code",
   "execution_count": 207,
   "id": "9bd9a525-f481-448d-9384-e1210d20782d",
   "metadata": {},
   "outputs": [
    {
     "name": "stderr",
     "output_type": "stream",
     "text": [
      "Some weights of BertForSequenceClassification were not initialized from the model checkpoint at bert-base-german-cased and are newly initialized: ['classifier.bias', 'classifier.weight']\n",
      "You should probably TRAIN this model on a down-stream task to be able to use it for predictions and inference.\n"
     ]
    }
   ],
   "source": [
    "from transformers import AutoModelForSequenceClassification, TrainingArguments, Trainer\n",
    "\n",
    "# Model and training setup\n",
    "model = AutoModelForSequenceClassification.from_pretrained(\n",
    "    pretrained_LM, num_labels=7\n",
    ")"
   ]
  },
  {
   "cell_type": "code",
   "execution_count": 208,
   "id": "76eb9d94-e7f9-4e86-8dcf-366fb52247be",
   "metadata": {},
   "outputs": [
    {
     "data": {
      "text/html": [
       "\n",
       "    <div>\n",
       "      \n",
       "      <progress value='930' max='930' style='width:300px; height:20px; vertical-align: middle;'></progress>\n",
       "      [930/930 11:14, Epoch 10/10]\n",
       "    </div>\n",
       "    <table border=\"1\" class=\"dataframe\">\n",
       "  <thead>\n",
       " <tr style=\"text-align: left;\">\n",
       "      <th>Epoch</th>\n",
       "      <th>Training Loss</th>\n",
       "      <th>Validation Loss</th>\n",
       "      <th>Accuracy</th>\n",
       "      <th>F1</th>\n",
       "      <th>Precision</th>\n",
       "      <th>Recall</th>\n",
       "    </tr>\n",
       "  </thead>\n",
       "  <tbody>\n",
       "    <tr>\n",
       "      <td>1</td>\n",
       "      <td>No log</td>\n",
       "      <td>1.697989</td>\n",
       "      <td>0.311828</td>\n",
       "      <td>0.161186</td>\n",
       "      <td>0.134388</td>\n",
       "      <td>0.208760</td>\n",
       "    </tr>\n",
       "    <tr>\n",
       "      <td>2</td>\n",
       "      <td>No log</td>\n",
       "      <td>0.696617</td>\n",
       "      <td>0.787634</td>\n",
       "      <td>0.778550</td>\n",
       "      <td>0.816008</td>\n",
       "      <td>0.757116</td>\n",
       "    </tr>\n",
       "    <tr>\n",
       "      <td>3</td>\n",
       "      <td>No log</td>\n",
       "      <td>0.565831</td>\n",
       "      <td>0.793011</td>\n",
       "      <td>0.782183</td>\n",
       "      <td>0.810816</td>\n",
       "      <td>0.766041</td>\n",
       "    </tr>\n",
       "    <tr>\n",
       "      <td>4</td>\n",
       "      <td>No log</td>\n",
       "      <td>0.627799</td>\n",
       "      <td>0.806452</td>\n",
       "      <td>0.802723</td>\n",
       "      <td>0.825783</td>\n",
       "      <td>0.786874</td>\n",
       "    </tr>\n",
       "    <tr>\n",
       "      <td>5</td>\n",
       "      <td>No log</td>\n",
       "      <td>0.698855</td>\n",
       "      <td>0.806452</td>\n",
       "      <td>0.795015</td>\n",
       "      <td>0.805247</td>\n",
       "      <td>0.787275</td>\n",
       "    </tr>\n",
       "    <tr>\n",
       "      <td>6</td>\n",
       "      <td>0.746400</td>\n",
       "      <td>0.848561</td>\n",
       "      <td>0.782258</td>\n",
       "      <td>0.767138</td>\n",
       "      <td>0.767166</td>\n",
       "      <td>0.771624</td>\n",
       "    </tr>\n",
       "    <tr>\n",
       "      <td>7</td>\n",
       "      <td>0.746400</td>\n",
       "      <td>0.883025</td>\n",
       "      <td>0.801075</td>\n",
       "      <td>0.784735</td>\n",
       "      <td>0.792222</td>\n",
       "      <td>0.780182</td>\n",
       "    </tr>\n",
       "    <tr>\n",
       "      <td>8</td>\n",
       "      <td>0.746400</td>\n",
       "      <td>0.950521</td>\n",
       "      <td>0.798387</td>\n",
       "      <td>0.782955</td>\n",
       "      <td>0.790716</td>\n",
       "      <td>0.778397</td>\n",
       "    </tr>\n",
       "    <tr>\n",
       "      <td>9</td>\n",
       "      <td>0.746400</td>\n",
       "      <td>0.965954</td>\n",
       "      <td>0.803763</td>\n",
       "      <td>0.790196</td>\n",
       "      <td>0.797451</td>\n",
       "      <td>0.785115</td>\n",
       "    </tr>\n",
       "    <tr>\n",
       "      <td>10</td>\n",
       "      <td>0.746400</td>\n",
       "      <td>0.982840</td>\n",
       "      <td>0.795699</td>\n",
       "      <td>0.780317</td>\n",
       "      <td>0.787761</td>\n",
       "      <td>0.775393</td>\n",
       "    </tr>\n",
       "  </tbody>\n",
       "</table><p>"
      ],
      "text/plain": [
       "<IPython.core.display.HTML object>"
      ]
     },
     "metadata": {},
     "output_type": "display_data"
    },
    {
     "name": "stderr",
     "output_type": "stream",
     "text": [
      "/software/jupyter/conda/envs/jupyter/lib/python3.11/site-packages/sklearn/metrics/_classification.py:1344: UndefinedMetricWarning: Precision and F-score are ill-defined and being set to 0.0 in labels with no predicted samples. Use `zero_division` parameter to control this behavior.\n",
      "  _warn_prf(average, modifier, msg_start, len(result))\n"
     ]
    },
    {
     "data": {
      "text/plain": [
       "TrainOutput(global_step=930, training_loss=0.41288542696224745, metrics={'train_runtime': 675.349, 'train_samples_per_second': 22.033, 'train_steps_per_second': 1.377, 'total_flos': 3915268263936000.0, 'train_loss': 0.41288542696224745, 'epoch': 10.0})"
      ]
     },
     "execution_count": 208,
     "metadata": {},
     "output_type": "execute_result"
    }
   ],
   "source": [
    "training_args = TrainingArguments(\n",
    "    output_dir=\"bert_full\",\n",
    "    learning_rate=2e-5,\n",
    "    per_device_train_batch_size=16,\n",
    "    per_device_eval_batch_size=16,\n",
    "    num_train_epochs=10,\n",
    "    weight_decay=0.01,\n",
    "    warmup_steps=150,               # number of warmup steps for learning rate \n",
    "    evaluation_strategy=\"epoch\",\n",
    "    save_strategy=\"epoch\",\n",
    "    load_best_model_at_end=True,\n",
    "    push_to_hub=False,\n",
    "    #label_names=[\"LABEL\"],\n",
    ")\n",
    "\n",
    "trainer = Trainer(\n",
    "    model=model,\n",
    "    args=training_args,\n",
    "    train_dataset=tokenized_training_data,\n",
    "    eval_dataset=tokenized_testing_data,\n",
    "    tokenizer=tokenizer,\n",
    "    data_collator=data_collator,\n",
    "    compute_metrics=compute_metrics  \n",
    ")\n",
    "\n",
    "#checkpointing\n",
    "#use cuda\n",
    "trainer.train()"
   ]
  },
  {
   "cell_type": "markdown",
   "id": "0a0b2cd0-c64b-438f-850f-5155ed2ff65f",
   "metadata": {},
   "source": [
    "## Evaluation on labelled test data set, 200 profile descriptions"
   ]
  },
  {
   "cell_type": "code",
   "execution_count": 209,
   "id": "52b05a74-8253-4d02-a7c8-406ed0579cbc",
   "metadata": {},
   "outputs": [],
   "source": [
    "# Load CSV into a Pandas DataFrame\n",
    "df_eval = pd.read_csv('labeled_testdata_bert.csv')\n",
    "df_eval = df_eval[['example', 'label']]\n",
    "df_eval = df_eval[df_eval['label'].notna()]\n",
    "df_eval['label'] = df_eval['label'].astype(int)\n",
    "# Rename the 'example' column to 'profile'\n",
    "df_eval.rename(columns={'example': 'profile'}, inplace=True)"
   ]
  },
  {
   "cell_type": "code",
   "execution_count": 210,
   "id": "8c115d0d-8e67-49f9-9689-10d5c37287ef",
   "metadata": {},
   "outputs": [
    {
     "data": {
      "text/html": [
       "<div>\n",
       "<style scoped>\n",
       "    .dataframe tbody tr th:only-of-type {\n",
       "        vertical-align: middle;\n",
       "    }\n",
       "\n",
       "    .dataframe tbody tr th {\n",
       "        vertical-align: top;\n",
       "    }\n",
       "\n",
       "    .dataframe thead th {\n",
       "        text-align: right;\n",
       "    }\n",
       "</style>\n",
       "<table border=\"1\" class=\"dataframe\">\n",
       "  <thead>\n",
       "    <tr style=\"text-align: right;\">\n",
       "      <th></th>\n",
       "      <th>profile</th>\n",
       "      <th>label</th>\n",
       "    </tr>\n",
       "  </thead>\n",
       "  <tbody>\n",
       "    <tr>\n",
       "      <th>0</th>\n",
       "      <td>Offizieller Twitter Account von Außenministeri...</td>\n",
       "      <td>1</td>\n",
       "    </tr>\n",
       "    <tr>\n",
       "      <th>1</th>\n",
       "      <td>Dies ist ein Archiv des Twitter-Accounts von A...</td>\n",
       "      <td>1</td>\n",
       "    </tr>\n",
       "    <tr>\n",
       "      <th>2</th>\n",
       "      <td>Landtagsabgeordnete der @cdufraktionmv, stellv...</td>\n",
       "      <td>3</td>\n",
       "    </tr>\n",
       "    <tr>\n",
       "      <th>3</th>\n",
       "      <td>Finanzsenator der Freien und Hansestadt Hambur...</td>\n",
       "      <td>2</td>\n",
       "    </tr>\n",
       "    <tr>\n",
       "      <th>4</th>\n",
       "      <td>Vorstehender der Bundestagsfraktion der Altern...</td>\n",
       "      <td>5</td>\n",
       "    </tr>\n",
       "    <tr>\n",
       "      <th>...</th>\n",
       "      <td>...</td>\n",
       "      <td>...</td>\n",
       "    </tr>\n",
       "    <tr>\n",
       "      <th>195</th>\n",
       "      <td>Sprecherin für Familie und Bildung der @gruene...</td>\n",
       "      <td>1</td>\n",
       "    </tr>\n",
       "    <tr>\n",
       "      <th>196</th>\n",
       "      <td>stellv. Vorsitzender Eisenbahn- und Verkehrsge...</td>\n",
       "      <td>2</td>\n",
       "    </tr>\n",
       "    <tr>\n",
       "      <th>197</th>\n",
       "      <td>Mitglied des Europäischen Parlaments</td>\n",
       "      <td>6</td>\n",
       "    </tr>\n",
       "    <tr>\n",
       "      <th>198</th>\n",
       "      <td>#MdL, Parlamentarischer Geschäftsführer und Sp...</td>\n",
       "      <td>1</td>\n",
       "    </tr>\n",
       "    <tr>\n",
       "      <th>199</th>\n",
       "      <td>Die #CDU ist die Volkspartei der Mitte. Seit 1...</td>\n",
       "      <td>3</td>\n",
       "    </tr>\n",
       "  </tbody>\n",
       "</table>\n",
       "<p>200 rows × 2 columns</p>\n",
       "</div>"
      ],
      "text/plain": [
       "                                               profile  label\n",
       "0    Offizieller Twitter Account von Außenministeri...      1\n",
       "1    Dies ist ein Archiv des Twitter-Accounts von A...      1\n",
       "2    Landtagsabgeordnete der @cdufraktionmv, stellv...      3\n",
       "3    Finanzsenator der Freien und Hansestadt Hambur...      2\n",
       "4    Vorstehender der Bundestagsfraktion der Altern...      5\n",
       "..                                                 ...    ...\n",
       "195  Sprecherin für Familie und Bildung der @gruene...      1\n",
       "196  stellv. Vorsitzender Eisenbahn- und Verkehrsge...      2\n",
       "197               Mitglied des Europäischen Parlaments      6\n",
       "198  #MdL, Parlamentarischer Geschäftsführer und Sp...      1\n",
       "199  Die #CDU ist die Volkspartei der Mitte. Seit 1...      3\n",
       "\n",
       "[200 rows x 2 columns]"
      ]
     },
     "execution_count": 210,
     "metadata": {},
     "output_type": "execute_result"
    }
   ],
   "source": [
    "df_eval"
   ]
  },
  {
   "cell_type": "code",
   "execution_count": 211,
   "id": "dedcb286-fa29-4c95-8ce2-0de10638e389",
   "metadata": {},
   "outputs": [
    {
     "data": {
      "application/vnd.jupyter.widget-view+json": {
       "model_id": "97263eb44afb435dbe5be95924846b66",
       "version_major": 2,
       "version_minor": 0
      },
      "text/plain": [
       "Map:   0%|          | 0/200 [00:00<?, ? examples/s]"
      ]
     },
     "metadata": {},
     "output_type": "display_data"
    }
   ],
   "source": [
    "df_eval['profile'] = df_eval['profile'].apply(lambda x: demojize(x))\n",
    "eval_data = Dataset.from_pandas(df_eval)\n",
    "tokenized_eval_data = eval_data.map(tokenize_function, batched=True)"
   ]
  },
  {
   "cell_type": "code",
   "execution_count": 212,
   "id": "3d617ca5-ee20-4365-b31b-e981ae4ca317",
   "metadata": {},
   "outputs": [
    {
     "data": {
      "text/plain": [
       "BertForSequenceClassification(\n",
       "  (bert): BertModel(\n",
       "    (embeddings): BertEmbeddings(\n",
       "      (word_embeddings): Embedding(30000, 768, padding_idx=0)\n",
       "      (position_embeddings): Embedding(512, 768)\n",
       "      (token_type_embeddings): Embedding(2, 768)\n",
       "      (LayerNorm): LayerNorm((768,), eps=1e-12, elementwise_affine=True)\n",
       "      (dropout): Dropout(p=0.1, inplace=False)\n",
       "    )\n",
       "    (encoder): BertEncoder(\n",
       "      (layer): ModuleList(\n",
       "        (0-11): 12 x BertLayer(\n",
       "          (attention): BertAttention(\n",
       "            (self): BertSelfAttention(\n",
       "              (query): Linear(in_features=768, out_features=768, bias=True)\n",
       "              (key): Linear(in_features=768, out_features=768, bias=True)\n",
       "              (value): Linear(in_features=768, out_features=768, bias=True)\n",
       "              (dropout): Dropout(p=0.1, inplace=False)\n",
       "            )\n",
       "            (output): BertSelfOutput(\n",
       "              (dense): Linear(in_features=768, out_features=768, bias=True)\n",
       "              (LayerNorm): LayerNorm((768,), eps=1e-12, elementwise_affine=True)\n",
       "              (dropout): Dropout(p=0.1, inplace=False)\n",
       "            )\n",
       "          )\n",
       "          (intermediate): BertIntermediate(\n",
       "            (dense): Linear(in_features=768, out_features=3072, bias=True)\n",
       "            (intermediate_act_fn): GELUActivation()\n",
       "          )\n",
       "          (output): BertOutput(\n",
       "            (dense): Linear(in_features=3072, out_features=768, bias=True)\n",
       "            (LayerNorm): LayerNorm((768,), eps=1e-12, elementwise_affine=True)\n",
       "            (dropout): Dropout(p=0.1, inplace=False)\n",
       "          )\n",
       "        )\n",
       "      )\n",
       "    )\n",
       "    (pooler): BertPooler(\n",
       "      (dense): Linear(in_features=768, out_features=768, bias=True)\n",
       "      (activation): Tanh()\n",
       "    )\n",
       "  )\n",
       "  (dropout): Dropout(p=0.1, inplace=False)\n",
       "  (classifier): Linear(in_features=768, out_features=7, bias=True)\n",
       ")"
      ]
     },
     "execution_count": 212,
     "metadata": {},
     "output_type": "execute_result"
    }
   ],
   "source": [
    "# put in testing mode (dropout modules are deactivated)\n",
    "model.eval() "
   ]
  },
  {
   "cell_type": "code",
   "execution_count": 213,
   "id": "83b18423-f05c-4402-a438-ca49fccf8363",
   "metadata": {},
   "outputs": [
    {
     "data": {
      "text/html": [],
      "text/plain": [
       "<IPython.core.display.HTML object>"
      ]
     },
     "metadata": {},
     "output_type": "display_data"
    },
    {
     "data": {
      "text/plain": [
       "PredictionOutput(predictions=array([[-0.61910313,  0.03925972,  0.47792742, ..., -0.9226824 ,\n",
       "        -0.86336315,  2.4679937 ],\n",
       "       [-0.66054785, -0.388963  ,  0.19457549, ..., -0.41623634,\n",
       "        -0.6889452 ,  2.4667041 ],\n",
       "       [-1.1016378 , -0.7066047 , -0.74150217, ..., -0.9151975 ,\n",
       "        -0.28603762, -0.5311623 ],\n",
       "       ...,\n",
       "       [ 0.12678424, -1.1716827 , -0.7052942 , ..., -0.8502929 ,\n",
       "         0.32220066,  1.7733136 ],\n",
       "       [-0.4851758 ,  4.390679  , -0.14872812, ..., -0.60208064,\n",
       "        -2.5544739 , -0.51748955],\n",
       "       [-0.9979751 , -1.0155394 , -0.8772448 , ..., -0.96546763,\n",
       "        -0.13496706, -0.03060766]], dtype=float32), label_ids=array([1, 1, 3, 2, 5, 2, 4, 2, 6, 2, 3, 6, 3, 3, 4, 6, 6, 2, 6, 5, 5, 6,\n",
       "       5, 5, 5, 5, 5, 5, 5, 5, 5, 2, 3, 2, 3, 6, 1, 4, 5, 6, 3, 6, 6, 1,\n",
       "       1, 6, 4, 6, 5, 3, 2, 2, 0, 5, 1, 4, 3, 6, 5, 3, 2, 3, 3, 6, 0, 6,\n",
       "       5, 6, 1, 4, 2, 3, 0, 6, 6, 6, 3, 2, 6, 2, 1, 1, 1, 4, 6, 3, 1, 2,\n",
       "       3, 0, 1, 5, 6, 4, 6, 6, 1, 5, 2, 6, 6, 1, 0, 6, 6, 3, 6, 6, 6, 2,\n",
       "       1, 1, 6, 6, 6, 6, 6, 6, 4, 6, 6, 6, 6, 1, 6, 1, 6, 4, 2, 1, 3, 2,\n",
       "       5, 6, 3, 6, 6, 6, 6, 2, 6, 6, 6, 6, 6, 6, 1, 6, 2, 0, 3, 5, 1, 2,\n",
       "       3, 0, 6, 6, 6, 6, 1, 6, 6, 6, 6, 1, 5, 6, 6, 6, 5, 3, 6, 0, 6, 2,\n",
       "       6, 3, 6, 1, 6, 3, 3, 1, 6, 1, 6, 4, 0, 5, 6, 3, 0, 6, 6, 1, 2, 6,\n",
       "       1, 3]), metrics={'test_loss': 0.9351778626441956, 'test_accuracy': 0.715, 'test_f1': 0.751428224645848, 'test_precision': 0.7400533290239173, 'test_recall': 0.8448670377241806, 'test_runtime': 2.7207, 'test_samples_per_second': 73.512, 'test_steps_per_second': 4.778})"
      ]
     },
     "execution_count": 213,
     "metadata": {},
     "output_type": "execute_result"
    }
   ],
   "source": [
    "trainer.predict(tokenized_eval_data)"
   ]
  },
  {
   "cell_type": "code",
   "execution_count": null,
   "id": "766de982-a20c-4d43-9139-4ffd6fbbee26",
   "metadata": {},
   "outputs": [],
   "source": []
  }
 ],
 "metadata": {
  "kernelspec": {
   "display_name": "Python 3.11",
   "language": "python",
   "name": "python3"
  },
  "language_info": {
   "codemirror_mode": {
    "name": "ipython",
    "version": 3
   },
   "file_extension": ".py",
   "mimetype": "text/x-python",
   "name": "python",
   "nbconvert_exporter": "python",
   "pygments_lexer": "ipython3",
   "version": "3.11.0"
  }
 },
 "nbformat": 4,
 "nbformat_minor": 5
}
