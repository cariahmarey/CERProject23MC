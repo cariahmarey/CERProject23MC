{
 "cells": [
  {
   "cell_type": "code",
   "execution_count": 1,
   "id": "1142ab18-e7cf-439f-8923-0830004815ec",
   "metadata": {},
   "outputs": [],
   "source": [
    "!pip install -q emoji"
   ]
  },
  {
   "cell_type": "code",
   "execution_count": 8,
   "id": "bc3cb741-b469-4d8a-8d7e-dcd397d6142a",
   "metadata": {},
   "outputs": [],
   "source": [
    "import pandas as pd\n",
    "from datasets import Dataset\n",
    "from transformers import AutoTokenizer\n",
    "from transformers import AutoModelForSequenceClassification, TrainingArguments, Trainer\n",
    "import numpy as np\n",
    "import torch\n",
    "\n",
    "# Load CSV into a Pandas DataFrame\n",
    "df = pd.read_csv('initial_train_bert.csv')\n",
    "df = df[['example', 'label']]\n",
    "df = df[df['label'].notna()]\n",
    "df['label'] = df['label'].astype(int)"
   ]
  },
  {
   "cell_type": "code",
   "execution_count": 9,
   "id": "d143abd9-581a-4b66-a68b-cec113e56d24",
   "metadata": {},
   "outputs": [
    {
     "data": {
      "text/html": [
       "<div>\n",
       "<style scoped>\n",
       "    .dataframe tbody tr th:only-of-type {\n",
       "        vertical-align: middle;\n",
       "    }\n",
       "\n",
       "    .dataframe tbody tr th {\n",
       "        vertical-align: top;\n",
       "    }\n",
       "\n",
       "    .dataframe thead th {\n",
       "        text-align: right;\n",
       "    }\n",
       "</style>\n",
       "<table border=\"1\" class=\"dataframe\">\n",
       "  <thead>\n",
       "    <tr style=\"text-align: right;\">\n",
       "      <th></th>\n",
       "      <th>example</th>\n",
       "      <th>label</th>\n",
       "    </tr>\n",
       "  </thead>\n",
       "  <tbody>\n",
       "    <tr>\n",
       "      <th>0</th>\n",
       "      <td>hier twittert das Team von Petra Pau/Marzahn-H...</td>\n",
       "      <td>0</td>\n",
       "    </tr>\n",
       "    <tr>\n",
       "      <th>1</th>\n",
       "      <td>Die soziale Opposition: Feministisch. Sozialis...</td>\n",
       "      <td>0</td>\n",
       "    </tr>\n",
       "    <tr>\n",
       "      <th>2</th>\n",
       "      <td>MdB DIE LINKE l Stellvertretende Fraktionsvors...</td>\n",
       "      <td>0</td>\n",
       "    </tr>\n",
       "    <tr>\n",
       "      <th>3</th>\n",
       "      <td>MdB für die Menschen in der Städteregion Aache...</td>\n",
       "      <td>0</td>\n",
       "    </tr>\n",
       "    <tr>\n",
       "      <th>4</th>\n",
       "      <td>Mitglied des Bundestages | Sprecherin für Arbe...</td>\n",
       "      <td>0</td>\n",
       "    </tr>\n",
       "  </tbody>\n",
       "</table>\n",
       "</div>"
      ],
      "text/plain": [
       "                                             example  label\n",
       "0  hier twittert das Team von Petra Pau/Marzahn-H...      0\n",
       "1  Die soziale Opposition: Feministisch. Sozialis...      0\n",
       "2  MdB DIE LINKE l Stellvertretende Fraktionsvors...      0\n",
       "3  MdB für die Menschen in der Städteregion Aache...      0\n",
       "4  Mitglied des Bundestages | Sprecherin für Arbe...      0"
      ]
     },
     "execution_count": 9,
     "metadata": {},
     "output_type": "execute_result"
    }
   ],
   "source": [
    "df.head()"
   ]
  },
  {
   "cell_type": "code",
   "execution_count": 11,
   "id": "2356a800-aaee-48fc-8e62-be9f8be242fd",
   "metadata": {},
   "outputs": [],
   "source": [
    "# Define label mappings\n",
    "id2label = {\n",
    "    0: \"ökonomisch neutral + libertär\",\n",
    "    1: \"ökonomisch links + libertär\",\n",
    "    2: \"ökonomisch neutral + libertär/autoritär\",\n",
    "    3: \"ökonomisch neutral + autoritär\",\n",
    "    4: \"ökonomisch rechts + libertär/autoritär\",\n",
    "    5: \"ökonomisch rechts + autoritär\",\n",
    "    6: \"Keine Kategorie\"\n",
    "}\n",
    "\n",
    "label2id = {\n",
    "    \"ökonomisch neutral + libertär\": 0,\n",
    "    \"ökonomisch links + libertär\": 1,\n",
    "    \"ökonomisch neutral + libertär/autoritär\": 2,\n",
    "    \"ökonomisch neutral + autoritär\": 3,\n",
    "    \"ökonomisch rechts + libertär/autoritär\": 4,\n",
    "    \"ökonomisch rechts + autoritär\": 5,\n",
    "    \"Keine Kategorie\": 6\n",
    "}"
   ]
  },
  {
   "cell_type": "code",
   "execution_count": 12,
   "id": "4db2e902-1467-4700-b0be-8fed75aff28a",
   "metadata": {},
   "outputs": [],
   "source": [
    "df[\"LABEL\"] = df[\"label\"].map(id2label.get)"
   ]
  },
  {
   "cell_type": "code",
   "execution_count": 13,
   "id": "76ab714d-3e3e-406f-b786-705b7cf1780a",
   "metadata": {},
   "outputs": [
    {
     "data": {
      "text/html": [
       "<div>\n",
       "<style scoped>\n",
       "    .dataframe tbody tr th:only-of-type {\n",
       "        vertical-align: middle;\n",
       "    }\n",
       "\n",
       "    .dataframe tbody tr th {\n",
       "        vertical-align: top;\n",
       "    }\n",
       "\n",
       "    .dataframe thead th {\n",
       "        text-align: right;\n",
       "    }\n",
       "</style>\n",
       "<table border=\"1\" class=\"dataframe\">\n",
       "  <thead>\n",
       "    <tr style=\"text-align: right;\">\n",
       "      <th></th>\n",
       "      <th>example</th>\n",
       "      <th>label</th>\n",
       "      <th>LABEL</th>\n",
       "    </tr>\n",
       "  </thead>\n",
       "  <tbody>\n",
       "    <tr>\n",
       "      <th>0</th>\n",
       "      <td>hier twittert das Team von Petra Pau/Marzahn-H...</td>\n",
       "      <td>0</td>\n",
       "      <td>ökonomisch neutral + libertär</td>\n",
       "    </tr>\n",
       "    <tr>\n",
       "      <th>1</th>\n",
       "      <td>Die soziale Opposition: Feministisch. Sozialis...</td>\n",
       "      <td>0</td>\n",
       "      <td>ökonomisch neutral + libertär</td>\n",
       "    </tr>\n",
       "    <tr>\n",
       "      <th>2</th>\n",
       "      <td>MdB DIE LINKE l Stellvertretende Fraktionsvors...</td>\n",
       "      <td>0</td>\n",
       "      <td>ökonomisch neutral + libertär</td>\n",
       "    </tr>\n",
       "    <tr>\n",
       "      <th>3</th>\n",
       "      <td>MdB für die Menschen in der Städteregion Aache...</td>\n",
       "      <td>0</td>\n",
       "      <td>ökonomisch neutral + libertär</td>\n",
       "    </tr>\n",
       "    <tr>\n",
       "      <th>4</th>\n",
       "      <td>Mitglied des Bundestages | Sprecherin für Arbe...</td>\n",
       "      <td>0</td>\n",
       "      <td>ökonomisch neutral + libertär</td>\n",
       "    </tr>\n",
       "  </tbody>\n",
       "</table>\n",
       "</div>"
      ],
      "text/plain": [
       "                                             example  label  \\\n",
       "0  hier twittert das Team von Petra Pau/Marzahn-H...      0   \n",
       "1  Die soziale Opposition: Feministisch. Sozialis...      0   \n",
       "2  MdB DIE LINKE l Stellvertretende Fraktionsvors...      0   \n",
       "3  MdB für die Menschen in der Städteregion Aache...      0   \n",
       "4  Mitglied des Bundestages | Sprecherin für Arbe...      0   \n",
       "\n",
       "                           LABEL  \n",
       "0  ökonomisch neutral + libertär  \n",
       "1  ökonomisch neutral + libertär  \n",
       "2  ökonomisch neutral + libertär  \n",
       "3  ökonomisch neutral + libertär  \n",
       "4  ökonomisch neutral + libertär  "
      ]
     },
     "execution_count": 13,
     "metadata": {},
     "output_type": "execute_result"
    }
   ],
   "source": [
    "df.head()"
   ]
  },
  {
   "cell_type": "markdown",
   "id": "1c509299-dd24-4476-bb25-f8c345170105",
   "metadata": {},
   "source": [
    "#### Converting emojis to text using pip package emoji"
   ]
  },
  {
   "cell_type": "code",
   "execution_count": 31,
   "id": "ea8960fc-b09a-4555-850a-60e766a22254",
   "metadata": {},
   "outputs": [],
   "source": [
    "import emoji\n",
    "import string\n",
    "import re\n",
    "\n",
    "def demojize(text):\n",
    "    # Convert emoji to text\n",
    "    processed_text = emoji.demojize(text, language='de')\n",
    "    # Remove ':' from converting the emojis to text\n",
    "    for char in string.punctuation.replace('.', ''):\n",
    "        processed_text = processed_text.replace(char, ' ')\n",
    "    # Remove trailing whitespace\n",
    "    processed_text = re.sub(r'\\s+', ' ', processed_text).strip()\n",
    "    return processed_text\n",
    "\n",
    "df['example'] = df['example'].apply(lambda x: demojize(x))"
   ]
  },
  {
   "cell_type": "code",
   "execution_count": 34,
   "id": "8ec7a5a5-3890-4eb9-a6f2-97401bc0ae6a",
   "metadata": {},
   "outputs": [
    {
     "data": {
      "text/plain": [
       "'Die soziale Opposition Feministisch. Sozialistisch. Friedlich. Für dich taube sicherheitsweste laubbaum erhobene faust'"
      ]
     },
     "execution_count": 34,
     "metadata": {},
     "output_type": "execute_result"
    }
   ],
   "source": [
    "df['example'][1]"
   ]
  },
  {
   "cell_type": "code",
   "execution_count": 35,
   "id": "6fa1166f-127d-411b-bd19-bf707b4c7931",
   "metadata": {},
   "outputs": [],
   "source": [
    "# Load the BERT tokenizer\n",
    "tokenizer = AutoTokenizer.from_pretrained(\"distilbert-base-german-cased\")\n",
    "\n",
    "def tokenize_function(examples):\n",
    "    return tokenizer(examples[\"example\"], padding=\"max_length\", truncation=True, return_tensors=\"pt\")"
   ]
  },
  {
   "cell_type": "code",
   "execution_count": 36,
   "id": "1bc976d7-4170-4a2c-8a55-e583e778c247",
   "metadata": {},
   "outputs": [],
   "source": [
    "# Split into training and testing data\n",
    "training_data = df.sample(frac=0.8, random_state=25)\n",
    "testing_data = df.drop(training_data.index)"
   ]
  },
  {
   "cell_type": "code",
   "execution_count": 37,
   "id": "dc4c73a6-02f0-4a70-a3b1-5db17d5bca31",
   "metadata": {},
   "outputs": [
    {
     "data": {
      "text/plain": [
       "label\n",
       "6    76\n",
       "3    56\n",
       "2    54\n",
       "5    48\n",
       "1    43\n",
       "0    35\n",
       "4    23\n",
       "Name: count, dtype: int64"
      ]
     },
     "execution_count": 37,
     "metadata": {},
     "output_type": "execute_result"
    }
   ],
   "source": [
    "training_data['label'].value_counts()"
   ]
  },
  {
   "cell_type": "code",
   "execution_count": 38,
   "id": "fe02dacd-a3ec-4ac0-a5ec-87e865d640b2",
   "metadata": {},
   "outputs": [
    {
     "data": {
      "text/plain": [
       "label\n",
       "6    26\n",
       "3    15\n",
       "1    12\n",
       "2    11\n",
       "5     8\n",
       "4     7\n",
       "0     5\n",
       "Name: count, dtype: int64"
      ]
     },
     "execution_count": 38,
     "metadata": {},
     "output_type": "execute_result"
    }
   ],
   "source": [
    "testing_data['label'].value_counts()"
   ]
  },
  {
   "cell_type": "code",
   "execution_count": 39,
   "id": "37072984-4c38-4631-93fd-b5ed87c3d20f",
   "metadata": {},
   "outputs": [
    {
     "data": {
      "application/vnd.jupyter.widget-view+json": {
       "model_id": "34a8b788e8c54dcab4e70aa6e1d9742c",
       "version_major": 2,
       "version_minor": 0
      },
      "text/plain": [
       "Map:   0%|          | 0/335 [00:00<?, ? examples/s]"
      ]
     },
     "metadata": {},
     "output_type": "display_data"
    },
    {
     "data": {
      "application/vnd.jupyter.widget-view+json": {
       "model_id": "4995b0698fd24a31aff041b49d3ae0ea",
       "version_major": 2,
       "version_minor": 0
      },
      "text/plain": [
       "Map:   0%|          | 0/84 [00:00<?, ? examples/s]"
      ]
     },
     "metadata": {},
     "output_type": "display_data"
    }
   ],
   "source": [
    "# Load datasets\n",
    "training_data = Dataset.from_pandas(training_data)\n",
    "testing_data = Dataset.from_pandas(testing_data)\n",
    "\n",
    "tokenized_training_data = training_data.map(tokenize_function, batched=True)\n",
    "tokenized_testing_data = testing_data.map(tokenize_function, batched=True)"
   ]
  },
  {
   "cell_type": "code",
   "execution_count": 40,
   "id": "9ba05642-3ef3-4fa3-bc1c-fd7a510180c7",
   "metadata": {},
   "outputs": [
    {
     "data": {
      "text/plain": [
       "'Fraktionsvorsitzende Grüne Sachsen Anhalt sonnenblume Klimaschutz Mobilitätswende und Demokratiesicherung'"
      ]
     },
     "execution_count": 40,
     "metadata": {},
     "output_type": "execute_result"
    }
   ],
   "source": [
    "tokenized_training_data['example'][11]"
   ]
  },
  {
   "cell_type": "code",
   "execution_count": 41,
   "id": "7aa290ef-97c1-48b8-ba94-6ab6d2c6e661",
   "metadata": {},
   "outputs": [
    {
     "data": {
      "text/plain": [
       "DataCollatorWithPadding(tokenizer=DistilBertTokenizerFast(name_or_path='distilbert-base-german-cased', vocab_size=31102, model_max_length=512, is_fast=True, padding_side='right', truncation_side='right', special_tokens={'unk_token': '[UNK]', 'sep_token': '[SEP]', 'pad_token': '[PAD]', 'cls_token': '[CLS]', 'mask_token': '[MASK]'}, clean_up_tokenization_spaces=True), padding=True, max_length=None, pad_to_multiple_of=None, return_tensors='pt')"
      ]
     },
     "execution_count": 41,
     "metadata": {},
     "output_type": "execute_result"
    }
   ],
   "source": [
    "from transformers import DataCollatorWithPadding\n",
    "data_collator = DataCollatorWithPadding(tokenizer=tokenizer)\n",
    "data_collator"
   ]
  },
  {
   "cell_type": "code",
   "execution_count": 42,
   "id": "c319bd12-5b07-41e6-b7fb-590d6c742ec6",
   "metadata": {},
   "outputs": [],
   "source": [
    "import evaluate\n",
    "accuracy = evaluate.load(\"accuracy\")"
   ]
  },
  {
   "cell_type": "code",
   "execution_count": 47,
   "id": "2109e363-9ff7-4ca8-8ad4-1e81edde6d72",
   "metadata": {},
   "outputs": [],
   "source": [
    "from sklearn.metrics import precision_recall_fscore_support, accuracy_score\n",
    "\n",
    "# Good link about which average to choose: https://simonhessner.de/why-are-precision-recall-and-f1-score-equal-when-using-micro-averaging-in-a-multi-class-problem/\n",
    "# micro: Calculate metrics globally by counting the total true positives, false negatives and false positives.\n",
    "# macro: Calculate metrics for each label, and find their unweighted mean. This does not take label imbalance into account.\n",
    "\n",
    "def compute_metrics(pred):\n",
    "    labels = pred.label_ids\n",
    "    preds = pred.predictions.argmax(-1)\n",
    "    precision, recall, f1, _ = precision_recall_fscore_support(labels, preds, average='macro')\n",
    "    acc = accuracy_score(labels, preds)\n",
    "    return {\n",
    "        'accuracy': acc,\n",
    "        'f1': f1,\n",
    "        'precision': precision,\n",
    "        'recall': recall\n",
    "    }"
   ]
  },
  {
   "cell_type": "code",
   "execution_count": 48,
   "id": "9079f82c-0c9d-43ba-9d5c-5f3c79a61afa",
   "metadata": {},
   "outputs": [
    {
     "name": "stderr",
     "output_type": "stream",
     "text": [
      "Some weights of DistilBertForSequenceClassification were not initialized from the model checkpoint at distilbert-base-german-cased and are newly initialized: ['classifier.weight', 'pre_classifier.weight', 'classifier.bias', 'pre_classifier.bias']\n",
      "You should probably TRAIN this model on a down-stream task to be able to use it for predictions and inference.\n"
     ]
    }
   ],
   "source": [
    "from torch import nn\n",
    "\n",
    "# Model and training setup\n",
    "model = AutoModelForSequenceClassification.from_pretrained(\n",
    "    \"distilbert-base-german-cased\", num_labels=7, id2label=id2label, label2id=label2id\n",
    ")"
   ]
  },
  {
   "cell_type": "code",
   "execution_count": 49,
   "id": "8eef8910-4ee7-4b01-9e1a-2a23b1aa41fc",
   "metadata": {},
   "outputs": [
    {
     "data": {
      "text/plain": [
       "device(type='cuda')"
      ]
     },
     "execution_count": 49,
     "metadata": {},
     "output_type": "execute_result"
    }
   ],
   "source": [
    "device = torch.device(\"cuda\" if torch.cuda.is_available() else \"cpu\")\n",
    "device"
   ]
  },
  {
   "cell_type": "code",
   "execution_count": 50,
   "id": "c3eb81cd-39e5-480e-922f-962469ca752e",
   "metadata": {},
   "outputs": [
    {
     "data": {
      "text/plain": [
       "'NVIDIA A30'"
      ]
     },
     "execution_count": 50,
     "metadata": {},
     "output_type": "execute_result"
    }
   ],
   "source": [
    "torch.cuda.get_device_name(0)"
   ]
  },
  {
   "cell_type": "code",
   "execution_count": 51,
   "id": "e320584f-a089-4bed-a880-b3edb4742a99",
   "metadata": {},
   "outputs": [
    {
     "data": {
      "text/plain": [
       "DistilBertForSequenceClassification(\n",
       "  (distilbert): DistilBertModel(\n",
       "    (embeddings): Embeddings(\n",
       "      (word_embeddings): Embedding(31102, 768, padding_idx=0)\n",
       "      (position_embeddings): Embedding(512, 768)\n",
       "      (LayerNorm): LayerNorm((768,), eps=1e-12, elementwise_affine=True)\n",
       "      (dropout): Dropout(p=0.1, inplace=False)\n",
       "    )\n",
       "    (transformer): Transformer(\n",
       "      (layer): ModuleList(\n",
       "        (0-5): 6 x TransformerBlock(\n",
       "          (attention): MultiHeadSelfAttention(\n",
       "            (dropout): Dropout(p=0.1, inplace=False)\n",
       "            (q_lin): Linear(in_features=768, out_features=768, bias=True)\n",
       "            (k_lin): Linear(in_features=768, out_features=768, bias=True)\n",
       "            (v_lin): Linear(in_features=768, out_features=768, bias=True)\n",
       "            (out_lin): Linear(in_features=768, out_features=768, bias=True)\n",
       "          )\n",
       "          (sa_layer_norm): LayerNorm((768,), eps=1e-12, elementwise_affine=True)\n",
       "          (ffn): FFN(\n",
       "            (dropout): Dropout(p=0.1, inplace=False)\n",
       "            (lin1): Linear(in_features=768, out_features=3072, bias=True)\n",
       "            (lin2): Linear(in_features=3072, out_features=768, bias=True)\n",
       "            (activation): GELUActivation()\n",
       "          )\n",
       "          (output_layer_norm): LayerNorm((768,), eps=1e-12, elementwise_affine=True)\n",
       "        )\n",
       "      )\n",
       "    )\n",
       "  )\n",
       "  (pre_classifier): Linear(in_features=768, out_features=768, bias=True)\n",
       "  (classifier): Linear(in_features=768, out_features=7, bias=True)\n",
       "  (dropout): Dropout(p=0.2, inplace=False)\n",
       ")"
      ]
     },
     "execution_count": 51,
     "metadata": {},
     "output_type": "execute_result"
    }
   ],
   "source": [
    "model.to(device) "
   ]
  },
  {
   "cell_type": "code",
   "execution_count": 52,
   "id": "7934a5ec-9d76-459d-9ec1-939201242916",
   "metadata": {},
   "outputs": [],
   "source": [
    "training_args = TrainingArguments(\n",
    "    output_dir=\"bert420\",              # output directory\n",
    "    learning_rate=2e-5,                # total # of training epochs\n",
    "    per_device_train_batch_size=16,    # batch size per device during training\n",
    "    per_device_eval_batch_size=16,     # batch size for evaluation\n",
    "    num_train_epochs=30,               # total # of training epochs\n",
    "    weight_decay=0.01,                 # strength of weight decay  \n",
    "    evaluation_strategy=\"epoch\",\n",
    "    save_strategy=\"epoch\",\n",
    "    load_best_model_at_end=True,\n",
    "    push_to_hub=False,\n",
    ")\n",
    "\n",
    "trainer = Trainer(\n",
    "    model=model,\n",
    "    args=training_args,\n",
    "    train_dataset=tokenized_training_data,\n",
    "    eval_dataset=tokenized_testing_data,\n",
    "    tokenizer=tokenizer,\n",
    "    compute_metrics=compute_metrics\n",
    ")"
   ]
  },
  {
   "cell_type": "code",
   "execution_count": 53,
   "id": "f466c576-8a0d-4683-87cd-e5878d81e474",
   "metadata": {},
   "outputs": [
    {
     "data": {
      "text/html": [
       "\n",
       "    <div>\n",
       "      \n",
       "      <progress value='630' max='630' style='width:300px; height:20px; vertical-align: middle;'></progress>\n",
       "      [630/630 04:32, Epoch 30/30]\n",
       "    </div>\n",
       "    <table border=\"1\" class=\"dataframe\">\n",
       "  <thead>\n",
       " <tr style=\"text-align: left;\">\n",
       "      <th>Epoch</th>\n",
       "      <th>Training Loss</th>\n",
       "      <th>Validation Loss</th>\n",
       "      <th>Accuracy</th>\n",
       "      <th>F1</th>\n",
       "      <th>Precision</th>\n",
       "      <th>Recall</th>\n",
       "    </tr>\n",
       "  </thead>\n",
       "  <tbody>\n",
       "    <tr>\n",
       "      <td>1</td>\n",
       "      <td>No log</td>\n",
       "      <td>1.850875</td>\n",
       "      <td>0.297619</td>\n",
       "      <td>0.065531</td>\n",
       "      <td>0.043029</td>\n",
       "      <td>0.137363</td>\n",
       "    </tr>\n",
       "    <tr>\n",
       "      <td>2</td>\n",
       "      <td>No log</td>\n",
       "      <td>1.818910</td>\n",
       "      <td>0.345238</td>\n",
       "      <td>0.153412</td>\n",
       "      <td>0.136112</td>\n",
       "      <td>0.216850</td>\n",
       "    </tr>\n",
       "    <tr>\n",
       "      <td>3</td>\n",
       "      <td>No log</td>\n",
       "      <td>1.708967</td>\n",
       "      <td>0.392857</td>\n",
       "      <td>0.216450</td>\n",
       "      <td>0.175429</td>\n",
       "      <td>0.288004</td>\n",
       "    </tr>\n",
       "    <tr>\n",
       "      <td>4</td>\n",
       "      <td>No log</td>\n",
       "      <td>1.515127</td>\n",
       "      <td>0.523810</td>\n",
       "      <td>0.345270</td>\n",
       "      <td>0.314218</td>\n",
       "      <td>0.396154</td>\n",
       "    </tr>\n",
       "    <tr>\n",
       "      <td>5</td>\n",
       "      <td>No log</td>\n",
       "      <td>1.343175</td>\n",
       "      <td>0.559524</td>\n",
       "      <td>0.398559</td>\n",
       "      <td>0.422902</td>\n",
       "      <td>0.431652</td>\n",
       "    </tr>\n",
       "    <tr>\n",
       "      <td>6</td>\n",
       "      <td>No log</td>\n",
       "      <td>1.181091</td>\n",
       "      <td>0.619048</td>\n",
       "      <td>0.505371</td>\n",
       "      <td>0.495991</td>\n",
       "      <td>0.527239</td>\n",
       "    </tr>\n",
       "    <tr>\n",
       "      <td>7</td>\n",
       "      <td>No log</td>\n",
       "      <td>1.055348</td>\n",
       "      <td>0.630952</td>\n",
       "      <td>0.537731</td>\n",
       "      <td>0.554616</td>\n",
       "      <td>0.557076</td>\n",
       "    </tr>\n",
       "    <tr>\n",
       "      <td>8</td>\n",
       "      <td>No log</td>\n",
       "      <td>0.932711</td>\n",
       "      <td>0.702381</td>\n",
       "      <td>0.617492</td>\n",
       "      <td>0.706012</td>\n",
       "      <td>0.631680</td>\n",
       "    </tr>\n",
       "    <tr>\n",
       "      <td>9</td>\n",
       "      <td>No log</td>\n",
       "      <td>0.832946</td>\n",
       "      <td>0.714286</td>\n",
       "      <td>0.650496</td>\n",
       "      <td>0.739177</td>\n",
       "      <td>0.680382</td>\n",
       "    </tr>\n",
       "    <tr>\n",
       "      <td>10</td>\n",
       "      <td>No log</td>\n",
       "      <td>0.758453</td>\n",
       "      <td>0.750000</td>\n",
       "      <td>0.746473</td>\n",
       "      <td>0.771848</td>\n",
       "      <td>0.745635</td>\n",
       "    </tr>\n",
       "    <tr>\n",
       "      <td>11</td>\n",
       "      <td>No log</td>\n",
       "      <td>0.704419</td>\n",
       "      <td>0.785714</td>\n",
       "      <td>0.802127</td>\n",
       "      <td>0.798997</td>\n",
       "      <td>0.816105</td>\n",
       "    </tr>\n",
       "    <tr>\n",
       "      <td>12</td>\n",
       "      <td>No log</td>\n",
       "      <td>0.678711</td>\n",
       "      <td>0.797619</td>\n",
       "      <td>0.812225</td>\n",
       "      <td>0.806539</td>\n",
       "      <td>0.837884</td>\n",
       "    </tr>\n",
       "    <tr>\n",
       "      <td>13</td>\n",
       "      <td>No log</td>\n",
       "      <td>0.608396</td>\n",
       "      <td>0.809524</td>\n",
       "      <td>0.819282</td>\n",
       "      <td>0.824036</td>\n",
       "      <td>0.842296</td>\n",
       "    </tr>\n",
       "    <tr>\n",
       "      <td>14</td>\n",
       "      <td>No log</td>\n",
       "      <td>0.585936</td>\n",
       "      <td>0.797619</td>\n",
       "      <td>0.809337</td>\n",
       "      <td>0.806293</td>\n",
       "      <td>0.833854</td>\n",
       "    </tr>\n",
       "    <tr>\n",
       "      <td>15</td>\n",
       "      <td>No log</td>\n",
       "      <td>0.609974</td>\n",
       "      <td>0.797619</td>\n",
       "      <td>0.810127</td>\n",
       "      <td>0.806609</td>\n",
       "      <td>0.833854</td>\n",
       "    </tr>\n",
       "    <tr>\n",
       "      <td>16</td>\n",
       "      <td>No log</td>\n",
       "      <td>0.551935</td>\n",
       "      <td>0.821429</td>\n",
       "      <td>0.831497</td>\n",
       "      <td>0.834360</td>\n",
       "      <td>0.851254</td>\n",
       "    </tr>\n",
       "    <tr>\n",
       "      <td>17</td>\n",
       "      <td>No log</td>\n",
       "      <td>0.618785</td>\n",
       "      <td>0.833333</td>\n",
       "      <td>0.836245</td>\n",
       "      <td>0.827540</td>\n",
       "      <td>0.871662</td>\n",
       "    </tr>\n",
       "    <tr>\n",
       "      <td>18</td>\n",
       "      <td>No log</td>\n",
       "      <td>0.614000</td>\n",
       "      <td>0.821429</td>\n",
       "      <td>0.828337</td>\n",
       "      <td>0.828696</td>\n",
       "      <td>0.859757</td>\n",
       "    </tr>\n",
       "    <tr>\n",
       "      <td>19</td>\n",
       "      <td>No log</td>\n",
       "      <td>0.590032</td>\n",
       "      <td>0.809524</td>\n",
       "      <td>0.822863</td>\n",
       "      <td>0.828238</td>\n",
       "      <td>0.839349</td>\n",
       "    </tr>\n",
       "    <tr>\n",
       "      <td>20</td>\n",
       "      <td>No log</td>\n",
       "      <td>0.629046</td>\n",
       "      <td>0.809524</td>\n",
       "      <td>0.814242</td>\n",
       "      <td>0.810143</td>\n",
       "      <td>0.846770</td>\n",
       "    </tr>\n",
       "    <tr>\n",
       "      <td>21</td>\n",
       "      <td>No log</td>\n",
       "      <td>0.586076</td>\n",
       "      <td>0.821429</td>\n",
       "      <td>0.838010</td>\n",
       "      <td>0.838312</td>\n",
       "      <td>0.859757</td>\n",
       "    </tr>\n",
       "    <tr>\n",
       "      <td>22</td>\n",
       "      <td>No log</td>\n",
       "      <td>0.632819</td>\n",
       "      <td>0.821429</td>\n",
       "      <td>0.827243</td>\n",
       "      <td>0.823391</td>\n",
       "      <td>0.859757</td>\n",
       "    </tr>\n",
       "    <tr>\n",
       "      <td>23</td>\n",
       "      <td>No log</td>\n",
       "      <td>0.632519</td>\n",
       "      <td>0.809524</td>\n",
       "      <td>0.817075</td>\n",
       "      <td>0.816178</td>\n",
       "      <td>0.847852</td>\n",
       "    </tr>\n",
       "    <tr>\n",
       "      <td>24</td>\n",
       "      <td>0.559700</td>\n",
       "      <td>0.612146</td>\n",
       "      <td>0.821429</td>\n",
       "      <td>0.838010</td>\n",
       "      <td>0.838312</td>\n",
       "      <td>0.859757</td>\n",
       "    </tr>\n",
       "    <tr>\n",
       "      <td>25</td>\n",
       "      <td>0.559700</td>\n",
       "      <td>0.611040</td>\n",
       "      <td>0.821429</td>\n",
       "      <td>0.838010</td>\n",
       "      <td>0.838312</td>\n",
       "      <td>0.859757</td>\n",
       "    </tr>\n",
       "    <tr>\n",
       "      <td>26</td>\n",
       "      <td>0.559700</td>\n",
       "      <td>0.631085</td>\n",
       "      <td>0.809524</td>\n",
       "      <td>0.817075</td>\n",
       "      <td>0.816178</td>\n",
       "      <td>0.847852</td>\n",
       "    </tr>\n",
       "    <tr>\n",
       "      <td>27</td>\n",
       "      <td>0.559700</td>\n",
       "      <td>0.629376</td>\n",
       "      <td>0.809524</td>\n",
       "      <td>0.817075</td>\n",
       "      <td>0.816178</td>\n",
       "      <td>0.847852</td>\n",
       "    </tr>\n",
       "    <tr>\n",
       "      <td>28</td>\n",
       "      <td>0.559700</td>\n",
       "      <td>0.638101</td>\n",
       "      <td>0.821429</td>\n",
       "      <td>0.827243</td>\n",
       "      <td>0.823391</td>\n",
       "      <td>0.859757</td>\n",
       "    </tr>\n",
       "    <tr>\n",
       "      <td>29</td>\n",
       "      <td>0.559700</td>\n",
       "      <td>0.631713</td>\n",
       "      <td>0.821429</td>\n",
       "      <td>0.827243</td>\n",
       "      <td>0.823391</td>\n",
       "      <td>0.859757</td>\n",
       "    </tr>\n",
       "    <tr>\n",
       "      <td>30</td>\n",
       "      <td>0.559700</td>\n",
       "      <td>0.632209</td>\n",
       "      <td>0.821429</td>\n",
       "      <td>0.827243</td>\n",
       "      <td>0.823391</td>\n",
       "      <td>0.859757</td>\n",
       "    </tr>\n",
       "  </tbody>\n",
       "</table><p>"
      ],
      "text/plain": [
       "<IPython.core.display.HTML object>"
      ]
     },
     "metadata": {},
     "output_type": "display_data"
    },
    {
     "name": "stderr",
     "output_type": "stream",
     "text": [
      "/software/jupyter/conda/envs/jupyter/lib/python3.11/site-packages/sklearn/metrics/_classification.py:1344: UndefinedMetricWarning: Precision and F-score are ill-defined and being set to 0.0 in labels with no predicted samples. Use `zero_division` parameter to control this behavior.\n",
      "  _warn_prf(average, modifier, msg_start, len(result))\n",
      "/software/jupyter/conda/envs/jupyter/lib/python3.11/site-packages/sklearn/metrics/_classification.py:1344: UndefinedMetricWarning: Precision and F-score are ill-defined and being set to 0.0 in labels with no predicted samples. Use `zero_division` parameter to control this behavior.\n",
      "  _warn_prf(average, modifier, msg_start, len(result))\n",
      "/software/jupyter/conda/envs/jupyter/lib/python3.11/site-packages/sklearn/metrics/_classification.py:1344: UndefinedMetricWarning: Precision and F-score are ill-defined and being set to 0.0 in labels with no predicted samples. Use `zero_division` parameter to control this behavior.\n",
      "  _warn_prf(average, modifier, msg_start, len(result))\n",
      "/software/jupyter/conda/envs/jupyter/lib/python3.11/site-packages/sklearn/metrics/_classification.py:1344: UndefinedMetricWarning: Precision and F-score are ill-defined and being set to 0.0 in labels with no predicted samples. Use `zero_division` parameter to control this behavior.\n",
      "  _warn_prf(average, modifier, msg_start, len(result))\n",
      "/software/jupyter/conda/envs/jupyter/lib/python3.11/site-packages/sklearn/metrics/_classification.py:1344: UndefinedMetricWarning: Precision and F-score are ill-defined and being set to 0.0 in labels with no predicted samples. Use `zero_division` parameter to control this behavior.\n",
      "  _warn_prf(average, modifier, msg_start, len(result))\n",
      "/software/jupyter/conda/envs/jupyter/lib/python3.11/site-packages/sklearn/metrics/_classification.py:1344: UndefinedMetricWarning: Precision and F-score are ill-defined and being set to 0.0 in labels with no predicted samples. Use `zero_division` parameter to control this behavior.\n",
      "  _warn_prf(average, modifier, msg_start, len(result))\n",
      "/software/jupyter/conda/envs/jupyter/lib/python3.11/site-packages/sklearn/metrics/_classification.py:1344: UndefinedMetricWarning: Precision and F-score are ill-defined and being set to 0.0 in labels with no predicted samples. Use `zero_division` parameter to control this behavior.\n",
      "  _warn_prf(average, modifier, msg_start, len(result))\n"
     ]
    },
    {
     "data": {
      "text/plain": [
       "TrainOutput(global_step=630, training_loss=0.44645624406754025, metrics={'train_runtime': 272.4757, 'train_samples_per_second': 36.884, 'train_steps_per_second': 2.312, 'total_flos': 1331416065484800.0, 'train_loss': 0.44645624406754025, 'epoch': 30.0})"
      ]
     },
     "execution_count": 53,
     "metadata": {},
     "output_type": "execute_result"
    }
   ],
   "source": [
    "# Fine-tune the model\n",
    "trainer.train()"
   ]
  },
  {
   "cell_type": "code",
   "execution_count": 54,
   "id": "5bf7c110-7f18-4b9a-b9ab-66cf06e54fe9",
   "metadata": {},
   "outputs": [],
   "source": [
    "trainer.save_model(\"models/bert420\")"
   ]
  },
  {
   "cell_type": "markdown",
   "id": "09dd3cef-2a52-48db-af8a-37ae50dc5f03",
   "metadata": {},
   "source": [
    "# Evaluation on labelled test data set, 200 profile descriptions"
   ]
  },
  {
   "cell_type": "code",
   "execution_count": 57,
   "id": "61d866ec-c505-4eeb-b6ae-26a8dd3e8cc7",
   "metadata": {},
   "outputs": [],
   "source": [
    "# Load CSV into a Pandas DataFrame\n",
    "df_test = pd.read_csv('labeled_testdata_bert.csv')\n",
    "df_test = df_test[['example', 'label']]\n",
    "df_test = df_test[df_test['label'].notna()]\n",
    "df_test['label'] = df_test['label'].astype(int)"
   ]
  },
  {
   "cell_type": "code",
   "execution_count": 58,
   "id": "1ea02dc7-7539-42b6-975d-1a5b0853f597",
   "metadata": {},
   "outputs": [
    {
     "data": {
      "text/html": [
       "<div>\n",
       "<style scoped>\n",
       "    .dataframe tbody tr th:only-of-type {\n",
       "        vertical-align: middle;\n",
       "    }\n",
       "\n",
       "    .dataframe tbody tr th {\n",
       "        vertical-align: top;\n",
       "    }\n",
       "\n",
       "    .dataframe thead th {\n",
       "        text-align: right;\n",
       "    }\n",
       "</style>\n",
       "<table border=\"1\" class=\"dataframe\">\n",
       "  <thead>\n",
       "    <tr style=\"text-align: right;\">\n",
       "      <th></th>\n",
       "      <th>example</th>\n",
       "      <th>label</th>\n",
       "    </tr>\n",
       "  </thead>\n",
       "  <tbody>\n",
       "    <tr>\n",
       "      <th>0</th>\n",
       "      <td>Offizieller Twitter Account von Außenministeri...</td>\n",
       "      <td>1</td>\n",
       "    </tr>\n",
       "    <tr>\n",
       "      <th>1</th>\n",
       "      <td>Dies ist ein Archiv des Twitter-Accounts von A...</td>\n",
       "      <td>1</td>\n",
       "    </tr>\n",
       "    <tr>\n",
       "      <th>2</th>\n",
       "      <td>Landtagsabgeordnete der @cdufraktionmv, stellv...</td>\n",
       "      <td>3</td>\n",
       "    </tr>\n",
       "    <tr>\n",
       "      <th>3</th>\n",
       "      <td>Finanzsenator der Freien und Hansestadt Hambur...</td>\n",
       "      <td>2</td>\n",
       "    </tr>\n",
       "    <tr>\n",
       "      <th>4</th>\n",
       "      <td>Vorstehender der Bundestagsfraktion der Altern...</td>\n",
       "      <td>5</td>\n",
       "    </tr>\n",
       "    <tr>\n",
       "      <th>...</th>\n",
       "      <td>...</td>\n",
       "      <td>...</td>\n",
       "    </tr>\n",
       "    <tr>\n",
       "      <th>195</th>\n",
       "      <td>Sprecherin für Familie und Bildung der @gruene...</td>\n",
       "      <td>1</td>\n",
       "    </tr>\n",
       "    <tr>\n",
       "      <th>196</th>\n",
       "      <td>stellv. Vorsitzender Eisenbahn- und Verkehrsge...</td>\n",
       "      <td>2</td>\n",
       "    </tr>\n",
       "    <tr>\n",
       "      <th>197</th>\n",
       "      <td>Mitglied des Europäischen Parlaments</td>\n",
       "      <td>6</td>\n",
       "    </tr>\n",
       "    <tr>\n",
       "      <th>198</th>\n",
       "      <td>#MdL, Parlamentarischer Geschäftsführer und Sp...</td>\n",
       "      <td>1</td>\n",
       "    </tr>\n",
       "    <tr>\n",
       "      <th>199</th>\n",
       "      <td>Die #CDU ist die Volkspartei der Mitte. Seit 1...</td>\n",
       "      <td>3</td>\n",
       "    </tr>\n",
       "  </tbody>\n",
       "</table>\n",
       "<p>200 rows × 2 columns</p>\n",
       "</div>"
      ],
      "text/plain": [
       "                                               example  label\n",
       "0    Offizieller Twitter Account von Außenministeri...      1\n",
       "1    Dies ist ein Archiv des Twitter-Accounts von A...      1\n",
       "2    Landtagsabgeordnete der @cdufraktionmv, stellv...      3\n",
       "3    Finanzsenator der Freien und Hansestadt Hambur...      2\n",
       "4    Vorstehender der Bundestagsfraktion der Altern...      5\n",
       "..                                                 ...    ...\n",
       "195  Sprecherin für Familie und Bildung der @gruene...      1\n",
       "196  stellv. Vorsitzender Eisenbahn- und Verkehrsge...      2\n",
       "197               Mitglied des Europäischen Parlaments      6\n",
       "198  #MdL, Parlamentarischer Geschäftsführer und Sp...      1\n",
       "199  Die #CDU ist die Volkspartei der Mitte. Seit 1...      3\n",
       "\n",
       "[200 rows x 2 columns]"
      ]
     },
     "execution_count": 58,
     "metadata": {},
     "output_type": "execute_result"
    }
   ],
   "source": [
    "df_test"
   ]
  },
  {
   "cell_type": "code",
   "execution_count": 59,
   "id": "587f221e-7975-4a39-a287-4c5c6754f6bc",
   "metadata": {},
   "outputs": [],
   "source": [
    "df_test['example'] = df_test['example'].apply(lambda x: demojize(x))"
   ]
  },
  {
   "cell_type": "code",
   "execution_count": 62,
   "id": "5f4616fc-baa3-45cb-b221-2e79e9cc0560",
   "metadata": {},
   "outputs": [],
   "source": [
    "eval_data = Dataset.from_pandas(df_test)"
   ]
  },
  {
   "cell_type": "code",
   "execution_count": 65,
   "id": "0fd77c63-f797-4030-b97f-a6c9bc52718b",
   "metadata": {},
   "outputs": [
    {
     "data": {
      "application/vnd.jupyter.widget-view+json": {
       "model_id": "bb4686f63175450ca5118ad221b06f60",
       "version_major": 2,
       "version_minor": 0
      },
      "text/plain": [
       "Map:   0%|          | 0/200 [00:00<?, ? examples/s]"
      ]
     },
     "metadata": {},
     "output_type": "display_data"
    }
   ],
   "source": [
    "tokenized_eval_data = eval_data.map(tokenize_function, batched=True)"
   ]
  },
  {
   "cell_type": "code",
   "execution_count": 64,
   "id": "f97d7b50-71a9-48e6-b61b-f6433d374e17",
   "metadata": {},
   "outputs": [
    {
     "data": {
      "text/plain": [
       "DistilBertForSequenceClassification(\n",
       "  (distilbert): DistilBertModel(\n",
       "    (embeddings): Embeddings(\n",
       "      (word_embeddings): Embedding(31102, 768, padding_idx=0)\n",
       "      (position_embeddings): Embedding(512, 768)\n",
       "      (LayerNorm): LayerNorm((768,), eps=1e-12, elementwise_affine=True)\n",
       "      (dropout): Dropout(p=0.1, inplace=False)\n",
       "    )\n",
       "    (transformer): Transformer(\n",
       "      (layer): ModuleList(\n",
       "        (0-5): 6 x TransformerBlock(\n",
       "          (attention): MultiHeadSelfAttention(\n",
       "            (dropout): Dropout(p=0.1, inplace=False)\n",
       "            (q_lin): Linear(in_features=768, out_features=768, bias=True)\n",
       "            (k_lin): Linear(in_features=768, out_features=768, bias=True)\n",
       "            (v_lin): Linear(in_features=768, out_features=768, bias=True)\n",
       "            (out_lin): Linear(in_features=768, out_features=768, bias=True)\n",
       "          )\n",
       "          (sa_layer_norm): LayerNorm((768,), eps=1e-12, elementwise_affine=True)\n",
       "          (ffn): FFN(\n",
       "            (dropout): Dropout(p=0.1, inplace=False)\n",
       "            (lin1): Linear(in_features=768, out_features=3072, bias=True)\n",
       "            (lin2): Linear(in_features=3072, out_features=768, bias=True)\n",
       "            (activation): GELUActivation()\n",
       "          )\n",
       "          (output_layer_norm): LayerNorm((768,), eps=1e-12, elementwise_affine=True)\n",
       "        )\n",
       "      )\n",
       "    )\n",
       "  )\n",
       "  (pre_classifier): Linear(in_features=768, out_features=768, bias=True)\n",
       "  (classifier): Linear(in_features=768, out_features=7, bias=True)\n",
       "  (dropout): Dropout(p=0.2, inplace=False)\n",
       ")"
      ]
     },
     "execution_count": 64,
     "metadata": {},
     "output_type": "execute_result"
    }
   ],
   "source": [
    "# put in testing mode (dropout modules are deactivated)\n",
    "model.eval() "
   ]
  },
  {
   "cell_type": "code",
   "execution_count": 66,
   "id": "cdd213f8-e5ef-4940-8991-fdfcee2befb4",
   "metadata": {},
   "outputs": [
    {
     "data": {
      "text/html": [],
      "text/plain": [
       "<IPython.core.display.HTML object>"
      ]
     },
     "metadata": {},
     "output_type": "display_data"
    },
    {
     "data": {
      "text/plain": [
       "PredictionOutput(predictions=array([[-1.2513319 , -0.17903946, -0.26790187, ..., -1.1659101 ,\n",
       "        -1.7402118 ,  4.8527665 ],\n",
       "       [-0.90500146, -0.7279141 ,  1.8236251 , ..., -1.5088848 ,\n",
       "        -1.186973  ,  2.7102895 ],\n",
       "       [-0.8262485 , -1.1469094 ,  0.2141004 , ..., -0.3664354 ,\n",
       "        -1.1484729 , -1.0886905 ],\n",
       "       ...,\n",
       "       [-0.01743887, -0.7423294 , -0.3723109 , ...,  0.7087059 ,\n",
       "        -1.3030632 ,  0.16954635],\n",
       "       [ 0.03778141,  3.6756032 ,  0.4756799 , ..., -0.28607988,\n",
       "        -2.2275503 , -1.5753125 ],\n",
       "       [-0.6955915 , -2.1835642 ,  0.06707751, ..., -0.19645503,\n",
       "         1.2705883 , -1.4830846 ]], dtype=float32), label_ids=array([1, 1, 3, 2, 5, 2, 4, 2, 6, 2, 3, 6, 3, 3, 4, 6, 6, 2, 6, 5, 5, 6,\n",
       "       5, 5, 5, 5, 5, 5, 5, 5, 5, 2, 3, 2, 3, 6, 1, 4, 5, 6, 3, 6, 6, 1,\n",
       "       1, 6, 4, 6, 5, 3, 2, 2, 0, 5, 1, 4, 3, 6, 5, 3, 2, 3, 3, 6, 0, 6,\n",
       "       5, 6, 1, 4, 2, 3, 0, 6, 6, 6, 3, 2, 6, 2, 1, 1, 1, 4, 6, 3, 1, 2,\n",
       "       3, 0, 1, 5, 6, 4, 6, 6, 1, 5, 2, 6, 6, 1, 0, 6, 6, 3, 6, 6, 6, 2,\n",
       "       1, 1, 6, 6, 6, 6, 6, 6, 4, 6, 6, 6, 6, 1, 6, 1, 6, 4, 2, 1, 3, 2,\n",
       "       5, 6, 3, 6, 6, 6, 6, 2, 6, 6, 6, 6, 6, 6, 1, 6, 2, 0, 3, 5, 1, 2,\n",
       "       3, 0, 6, 6, 6, 6, 1, 6, 6, 6, 6, 1, 5, 6, 6, 6, 5, 3, 6, 0, 6, 2,\n",
       "       6, 3, 6, 1, 6, 3, 3, 1, 6, 1, 6, 4, 0, 5, 6, 3, 0, 6, 6, 1, 2, 6,\n",
       "       1, 3]), metrics={'test_loss': 0.5821785926818848, 'test_accuracy': 0.84, 'test_f1': 0.8499952877311368, 'test_precision': 0.8616450216450217, 'test_recall': 0.846186950845336, 'test_runtime': 1.4237, 'test_samples_per_second': 140.479, 'test_steps_per_second': 9.131})"
      ]
     },
     "execution_count": 66,
     "metadata": {},
     "output_type": "execute_result"
    }
   ],
   "source": [
    "trainer.predict(tokenized_eval_data)"
   ]
  },
  {
   "cell_type": "markdown",
   "id": "c541dd6b-a8b4-4fc2-8ef4-f39da90d8278",
   "metadata": {},
   "source": [
    "* **Accuracy:** 0.84\n",
    "* **F1:** 0.849\n",
    "* **Precision:** 0.862\n",
    "* **Recall:** 0.84"
   ]
  },
  {
   "cell_type": "code",
   "execution_count": null,
   "id": "019bb158-2560-46e0-9a9a-f7e423f414bc",
   "metadata": {},
   "outputs": [],
   "source": []
  }
 ],
 "metadata": {
  "kernelspec": {
   "display_name": "Python 3.11",
   "language": "python",
   "name": "python3"
  },
  "language_info": {
   "codemirror_mode": {
    "name": "ipython",
    "version": 3
   },
   "file_extension": ".py",
   "mimetype": "text/x-python",
   "name": "python",
   "nbconvert_exporter": "python",
   "pygments_lexer": "ipython3",
   "version": "3.11.0"
  }
 },
 "nbformat": 4,
 "nbformat_minor": 5
}
