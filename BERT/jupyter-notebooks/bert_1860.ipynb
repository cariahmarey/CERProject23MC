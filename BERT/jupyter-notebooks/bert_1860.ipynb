{
 "cells": [
  {
   "cell_type": "code",
   "execution_count": 1,
   "id": "8df7f1f5-6e87-4050-a5cd-c725044732c6",
   "metadata": {},
   "outputs": [],
   "source": [
    "!pip install -q datasets transformers numpy torch pandas"
   ]
  },
  {
   "cell_type": "code",
   "execution_count": 44,
   "id": "6066950c-8548-4c0c-9577-1c1cdde76e5a",
   "metadata": {},
   "outputs": [],
   "source": [
    "import pandas as pd\n",
    "from datasets import Dataset\n",
    "from transformers import AutoTokenizer\n",
    "from transformers import AutoModelForSequenceClassification, TrainingArguments, Trainer\n",
    "import numpy as np\n",
    "import torch"
   ]
  },
  {
   "cell_type": "code",
   "execution_count": 92,
   "id": "323c3eb1-2ad5-47df-bf48-b0fa7953643a",
   "metadata": {},
   "outputs": [],
   "source": [
    "# Load CSV into a Pandas DataFrame\n",
    "df = pd.read_csv('profiledescriptions_withpartyanduserid.csv', sep=';')"
   ]
  },
  {
   "cell_type": "code",
   "execution_count": 93,
   "id": "259b62c2-1f66-4d0c-8f4b-c2f6f0ec2818",
   "metadata": {},
   "outputs": [
    {
     "data": {
      "text/html": [
       "<div>\n",
       "<style scoped>\n",
       "    .dataframe tbody tr th:only-of-type {\n",
       "        vertical-align: middle;\n",
       "    }\n",
       "\n",
       "    .dataframe tbody tr th {\n",
       "        vertical-align: top;\n",
       "    }\n",
       "\n",
       "    .dataframe thead th {\n",
       "        text-align: right;\n",
       "    }\n",
       "</style>\n",
       "<table border=\"1\" class=\"dataframe\">\n",
       "  <thead>\n",
       "    <tr style=\"text-align: right;\">\n",
       "      <th></th>\n",
       "      <th>X</th>\n",
       "      <th>twitter_handle</th>\n",
       "      <th>profile</th>\n",
       "      <th>user_id</th>\n",
       "      <th>party</th>\n",
       "    </tr>\n",
       "  </thead>\n",
       "  <tbody>\n",
       "    <tr>\n",
       "      <th>0</th>\n",
       "      <td>0</td>\n",
       "      <td>ManjaSchuele</td>\n",
       "      <td>Ministerin für Wissenschaft, Forschung und Kul...</td>\n",
       "      <td>8,27091E+17</td>\n",
       "      <td>SPD</td>\n",
       "    </tr>\n",
       "    <tr>\n",
       "      <th>1</th>\n",
       "      <td>1</td>\n",
       "      <td>TeamPetraPau</td>\n",
       "      <td>hier twittert das Team von Petra Pau/Marzahn-H...</td>\n",
       "      <td>1683845126</td>\n",
       "      <td>DIE LINKE</td>\n",
       "    </tr>\n",
       "    <tr>\n",
       "      <th>2</th>\n",
       "      <td>2</td>\n",
       "      <td>TeamDieSchmidt</td>\n",
       "      <td>Hier tweetet, textet und publiziert das Team d...</td>\n",
       "      <td>1377117206</td>\n",
       "      <td>SPD</td>\n",
       "    </tr>\n",
       "    <tr>\n",
       "      <th>3</th>\n",
       "      <td>3</td>\n",
       "      <td>reinhardbrandl</td>\n",
       "      <td>Mitglied im Verteidigungsausschuss 🇺🇦 \\nMitgli...</td>\n",
       "      <td>262730721</td>\n",
       "      <td>CSU</td>\n",
       "    </tr>\n",
       "    <tr>\n",
       "      <th>4</th>\n",
       "      <td>4</td>\n",
       "      <td>schwarz_spd</td>\n",
       "      <td>SPD Bundestagskandidat für Bamberg und Forchhe...</td>\n",
       "      <td>53617577</td>\n",
       "      <td>SPD</td>\n",
       "    </tr>\n",
       "  </tbody>\n",
       "</table>\n",
       "</div>"
      ],
      "text/plain": [
       "   X  twitter_handle                                            profile  \\\n",
       "0  0    ManjaSchuele  Ministerin für Wissenschaft, Forschung und Kul...   \n",
       "1  1    TeamPetraPau  hier twittert das Team von Petra Pau/Marzahn-H...   \n",
       "2  2  TeamDieSchmidt  Hier tweetet, textet und publiziert das Team d...   \n",
       "3  3  reinhardbrandl  Mitglied im Verteidigungsausschuss 🇺🇦 \\nMitgli...   \n",
       "4  4     schwarz_spd  SPD Bundestagskandidat für Bamberg und Forchhe...   \n",
       "\n",
       "       user_id      party  \n",
       "0  8,27091E+17        SPD  \n",
       "1   1683845126  DIE LINKE  \n",
       "2   1377117206        SPD  \n",
       "3    262730721        CSU  \n",
       "4     53617577        SPD  "
      ]
     },
     "execution_count": 93,
     "metadata": {},
     "output_type": "execute_result"
    }
   ],
   "source": [
    "df.head()"
   ]
  },
  {
   "cell_type": "code",
   "execution_count": 94,
   "id": "62923c00-4911-47d0-bfd1-fa9c8b9b49ae",
   "metadata": {},
   "outputs": [
    {
     "data": {
      "text/plain": [
       "(2049, 5)"
      ]
     },
     "execution_count": 94,
     "metadata": {},
     "output_type": "execute_result"
    }
   ],
   "source": [
    "df.shape"
   ]
  },
  {
   "cell_type": "code",
   "execution_count": 95,
   "id": "b3dc2e45-3ff8-4ac8-aa80-c13d93859a50",
   "metadata": {},
   "outputs": [],
   "source": [
    "df_test = pd.read_csv('labeled_testdata_bert.csv')"
   ]
  },
  {
   "cell_type": "code",
   "execution_count": 96,
   "id": "8508fc4e-4c84-4726-8be7-18a1f8d16d6a",
   "metadata": {},
   "outputs": [
    {
     "data": {
      "text/html": [
       "<div>\n",
       "<style scoped>\n",
       "    .dataframe tbody tr th:only-of-type {\n",
       "        vertical-align: middle;\n",
       "    }\n",
       "\n",
       "    .dataframe tbody tr th {\n",
       "        vertical-align: top;\n",
       "    }\n",
       "\n",
       "    .dataframe thead th {\n",
       "        text-align: right;\n",
       "    }\n",
       "</style>\n",
       "<table border=\"1\" class=\"dataframe\">\n",
       "  <thead>\n",
       "    <tr style=\"text-align: right;\">\n",
       "      <th></th>\n",
       "      <th>X</th>\n",
       "      <th>twitter_handle</th>\n",
       "      <th>example</th>\n",
       "      <th>user_id</th>\n",
       "      <th>party</th>\n",
       "      <th>label</th>\n",
       "    </tr>\n",
       "  </thead>\n",
       "  <tbody>\n",
       "    <tr>\n",
       "      <th>0</th>\n",
       "      <td>1789</td>\n",
       "      <td>ABaerbock</td>\n",
       "      <td>Offizieller Twitter Account von Außenministeri...</td>\n",
       "      <td>1.269262e+18</td>\n",
       "      <td>Bündnis 90/Die Grünen</td>\n",
       "      <td>1</td>\n",
       "    </tr>\n",
       "    <tr>\n",
       "      <th>1</th>\n",
       "      <td>190</td>\n",
       "      <td>ABaerbockArchiv</td>\n",
       "      <td>Dies ist ein Archiv des Twitter-Accounts von A...</td>\n",
       "      <td>2.179011e+09</td>\n",
       "      <td>Bündnis 90/Die Grünen</td>\n",
       "      <td>1</td>\n",
       "    </tr>\n",
       "    <tr>\n",
       "      <th>2</th>\n",
       "      <td>920</td>\n",
       "      <td>ACvA_MdL</td>\n",
       "      <td>Landtagsabgeordnete der @cdufraktionmv, stellv...</td>\n",
       "      <td>1.218517e+18</td>\n",
       "      <td>CDU</td>\n",
       "      <td>3</td>\n",
       "    </tr>\n",
       "    <tr>\n",
       "      <th>3</th>\n",
       "      <td>822</td>\n",
       "      <td>ADressel</td>\n",
       "      <td>Finanzsenator der Freien und Hansestadt Hambur...</td>\n",
       "      <td>1.053199e+18</td>\n",
       "      <td>SPD</td>\n",
       "      <td>2</td>\n",
       "    </tr>\n",
       "    <tr>\n",
       "      <th>4</th>\n",
       "      <td>1202</td>\n",
       "      <td>AG_AfD</td>\n",
       "      <td>Vorstehender der Bundestagsfraktion der Altern...</td>\n",
       "      <td>9.126128e+17</td>\n",
       "      <td>AfD</td>\n",
       "      <td>5</td>\n",
       "    </tr>\n",
       "  </tbody>\n",
       "</table>\n",
       "</div>"
      ],
      "text/plain": [
       "      X   twitter_handle                                            example  \\\n",
       "0  1789        ABaerbock  Offizieller Twitter Account von Außenministeri...   \n",
       "1   190  ABaerbockArchiv  Dies ist ein Archiv des Twitter-Accounts von A...   \n",
       "2   920         ACvA_MdL  Landtagsabgeordnete der @cdufraktionmv, stellv...   \n",
       "3   822         ADressel  Finanzsenator der Freien und Hansestadt Hambur...   \n",
       "4  1202           AG_AfD  Vorstehender der Bundestagsfraktion der Altern...   \n",
       "\n",
       "        user_id                  party  label  \n",
       "0  1.269262e+18  Bündnis 90/Die Grünen      1  \n",
       "1  2.179011e+09  Bündnis 90/Die Grünen      1  \n",
       "2  1.218517e+18                    CDU      3  \n",
       "3  1.053199e+18                    SPD      2  \n",
       "4  9.126128e+17                    AfD      5  "
      ]
     },
     "execution_count": 96,
     "metadata": {},
     "output_type": "execute_result"
    }
   ],
   "source": [
    "df_test.head()"
   ]
  },
  {
   "cell_type": "code",
   "execution_count": 97,
   "id": "497068f4-6af0-4a1b-aa91-791c14e6bcd0",
   "metadata": {},
   "outputs": [
    {
     "data": {
      "text/plain": [
       "(200, 6)"
      ]
     },
     "execution_count": 97,
     "metadata": {},
     "output_type": "execute_result"
    }
   ],
   "source": [
    "df_test.shape"
   ]
  },
  {
   "cell_type": "code",
   "execution_count": 98,
   "id": "742d1764-da94-4d56-9f59-cf65c776f0c5",
   "metadata": {},
   "outputs": [],
   "source": [
    "df = df[~df['X'].isin(df_test['X'])]"
   ]
  },
  {
   "cell_type": "code",
   "execution_count": 99,
   "id": "4de893fa-a58d-4d65-aee4-64d49da4b951",
   "metadata": {},
   "outputs": [
    {
     "data": {
      "text/html": [
       "<div>\n",
       "<style scoped>\n",
       "    .dataframe tbody tr th:only-of-type {\n",
       "        vertical-align: middle;\n",
       "    }\n",
       "\n",
       "    .dataframe tbody tr th {\n",
       "        vertical-align: top;\n",
       "    }\n",
       "\n",
       "    .dataframe thead th {\n",
       "        text-align: right;\n",
       "    }\n",
       "</style>\n",
       "<table border=\"1\" class=\"dataframe\">\n",
       "  <thead>\n",
       "    <tr style=\"text-align: right;\">\n",
       "      <th></th>\n",
       "      <th>X</th>\n",
       "      <th>twitter_handle</th>\n",
       "      <th>profile</th>\n",
       "      <th>user_id</th>\n",
       "      <th>party</th>\n",
       "    </tr>\n",
       "  </thead>\n",
       "  <tbody>\n",
       "    <tr>\n",
       "      <th>0</th>\n",
       "      <td>0</td>\n",
       "      <td>ManjaSchuele</td>\n",
       "      <td>Ministerin für Wissenschaft, Forschung und Kul...</td>\n",
       "      <td>8,27091E+17</td>\n",
       "      <td>SPD</td>\n",
       "    </tr>\n",
       "    <tr>\n",
       "      <th>1</th>\n",
       "      <td>1</td>\n",
       "      <td>TeamPetraPau</td>\n",
       "      <td>hier twittert das Team von Petra Pau/Marzahn-H...</td>\n",
       "      <td>1683845126</td>\n",
       "      <td>DIE LINKE</td>\n",
       "    </tr>\n",
       "    <tr>\n",
       "      <th>2</th>\n",
       "      <td>2</td>\n",
       "      <td>TeamDieSchmidt</td>\n",
       "      <td>Hier tweetet, textet und publiziert das Team d...</td>\n",
       "      <td>1377117206</td>\n",
       "      <td>SPD</td>\n",
       "    </tr>\n",
       "    <tr>\n",
       "      <th>3</th>\n",
       "      <td>3</td>\n",
       "      <td>reinhardbrandl</td>\n",
       "      <td>Mitglied im Verteidigungsausschuss 🇺🇦 \\nMitgli...</td>\n",
       "      <td>262730721</td>\n",
       "      <td>CSU</td>\n",
       "    </tr>\n",
       "    <tr>\n",
       "      <th>4</th>\n",
       "      <td>4</td>\n",
       "      <td>schwarz_spd</td>\n",
       "      <td>SPD Bundestagskandidat für Bamberg und Forchhe...</td>\n",
       "      <td>53617577</td>\n",
       "      <td>SPD</td>\n",
       "    </tr>\n",
       "  </tbody>\n",
       "</table>\n",
       "</div>"
      ],
      "text/plain": [
       "   X  twitter_handle                                            profile  \\\n",
       "0  0    ManjaSchuele  Ministerin für Wissenschaft, Forschung und Kul...   \n",
       "1  1    TeamPetraPau  hier twittert das Team von Petra Pau/Marzahn-H...   \n",
       "2  2  TeamDieSchmidt  Hier tweetet, textet und publiziert das Team d...   \n",
       "3  3  reinhardbrandl  Mitglied im Verteidigungsausschuss 🇺🇦 \\nMitgli...   \n",
       "4  4     schwarz_spd  SPD Bundestagskandidat für Bamberg und Forchhe...   \n",
       "\n",
       "       user_id      party  \n",
       "0  8,27091E+17        SPD  \n",
       "1   1683845126  DIE LINKE  \n",
       "2   1377117206        SPD  \n",
       "3    262730721        CSU  \n",
       "4     53617577        SPD  "
      ]
     },
     "execution_count": 99,
     "metadata": {},
     "output_type": "execute_result"
    }
   ],
   "source": [
    "df.head()"
   ]
  },
  {
   "cell_type": "code",
   "execution_count": 100,
   "id": "fd4364c8-9c5e-4131-8fd7-8f570b22c5e3",
   "metadata": {},
   "outputs": [
    {
     "data": {
      "text/plain": [
       "(1860, 5)"
      ]
     },
     "execution_count": 100,
     "metadata": {},
     "output_type": "execute_result"
    }
   ],
   "source": [
    "df.shape"
   ]
  },
  {
   "cell_type": "code",
   "execution_count": 101,
   "id": "889666d8-bf60-4104-9ca4-f81b9b85c18e",
   "metadata": {},
   "outputs": [
    {
     "name": "stdout",
     "output_type": "stream",
     "text": [
      "Unique Parties: ['SPD' 'DIE LINKE' 'CSU' 'AfD' 'Bündnis 90/Die Grünen' 'FDP' 'CDU'\n",
      " 'Liberal-Konservative Reformer' 'Christliche Mitte'\n",
      " 'Bürgerbewegung pro NRW' 'Bürgerrechtsbewegung Solidarität' 'ÖDP'\n",
      " 'DIE PARTEI' 'Bayernpartei' 'Sozialistische Gleichheitspartei'\n",
      " 'Piratenpartei' 'no party affiliation' 'Renew Europe'\n",
      " 'Europäische Volkspartei' 'Freie Wähler' 'BIW' 'LKR' 'Die Föderalen'\n",
      " 'SSW' 'Thüringer Heimatpartei' 'buendnis21' 'UNABHAENGIGE Partei'\n",
      " 'Klimaliste Baden-Württemberg' 'dieBasis' 'Wir2020'\n",
      " 'Deutsche Kommunistische Partei DKP' 'PdF' 'Volt Deutschland' 'MLPD'\n",
      " 'Die Urbane' 'Demokratie in Bewegung' 'Partei für Gesundheitsforschung'\n",
      " 'V-Partei³' 'Graue Panther' 'Bündnis C' 'Team Todenhöfer'\n",
      " 'Partei der Humanisten' 'MENSCHLICHE WELT' 'Tierschutzpartei'\n",
      " 'Dt. Konservative' 'Liberale Demokraten' 'FW' nan]\n",
      "\n",
      "Value counts:\n",
      " party\n",
      "SPD                                   417\n",
      "Bündnis 90/Die Grünen                 380\n",
      "CDU                                   314\n",
      "FDP                                   199\n",
      "AfD                                   190\n",
      "DIE LINKE                             165\n",
      "CSU                                    68\n",
      "Freie Wähler                           15\n",
      "no party affiliation                    6\n",
      "SSW                                     4\n",
      "DIE PARTEI                              3\n",
      "Europäische Volkspartei                 3\n",
      "ÖDP                                     2\n",
      "Piratenpartei                           2\n",
      "Liberal-Konservative Reformer           2\n",
      "Bürgerrechtsbewegung Solidarität        1\n",
      "Graue Panther                           1\n",
      "MLPD                                    1\n",
      "Die Urbane                              1\n",
      "Demokratie in Bewegung                  1\n",
      "Partei für Gesundheitsforschung         1\n",
      "V-Partei³                               1\n",
      "Team Todenhöfer                         1\n",
      "Bündnis C                               1\n",
      "PdF                                     1\n",
      "Partei der Humanisten                   1\n",
      "MENSCHLICHE WELT                        1\n",
      "Tierschutzpartei                        1\n",
      "Dt. Konservative                        1\n",
      "Liberale Demokraten                     1\n",
      "Volt Deutschland                        1\n",
      "dieBasis                                1\n",
      "Deutsche Kommunistische Partei DKP      1\n",
      "Wir2020                                 1\n",
      "Klimaliste Baden-Württemberg            1\n",
      "UNABHAENGIGE Partei                     1\n",
      "buendnis21                              1\n",
      "Thüringer Heimatpartei                  1\n",
      "Die Föderalen                           1\n",
      "LKR                                     1\n",
      "BIW                                     1\n",
      "Christliche Mitte                       1\n",
      "Renew Europe                            1\n",
      "Bürgerbewegung pro NRW                  1\n",
      "Sozialistische Gleichheitspartei        1\n",
      "Bayernpartei                            1\n",
      "FW                                      1\n",
      "Name: count, dtype: int64\n"
     ]
    }
   ],
   "source": [
    "# Get unique values in a specific column\n",
    "\n",
    "def analyze_party_distribution(column):\n",
    "    # Get unique values in a specific column\n",
    "    unique_values = column.unique()\n",
    "    print(\"Unique Parties:\", unique_values)\n",
    "\n",
    "    # Get count of each unique value in the column\n",
    "    value_counts = column.value_counts()\n",
    "    print(\"\\nValue counts:\\n\", value_counts)\n",
    " \n",
    "analyze_party_distribution(df['party'])"
   ]
  },
  {
   "cell_type": "code",
   "execution_count": 102,
   "id": "7cb5e0cb-0660-44bd-9099-4309f3038476",
   "metadata": {},
   "outputs": [],
   "source": [
    "party2id = {\n",
    "    \"DIE LINKE\": 0,\n",
    "    \"Bündnis 90/Die Grünen\": 1,\n",
    "    \"SPD\": 2,\n",
    "    \"CSU\": 3,\n",
    "    \"CDU\": 3,\n",
    "    \"FDP\": 4,\n",
    "    \"AfD\": 5,\n",
    "    \"Keine Kategorie\": 6\n",
    "}"
   ]
  },
  {
   "cell_type": "markdown",
   "id": "9c8e329c-b7da-436c-bdfd-22d946f94c5b",
   "metadata": {},
   "source": [
    "### Just keep the party names from above and change any other party to \"Keine Kategorie\""
   ]
  },
  {
   "cell_type": "code",
   "execution_count": 103,
   "id": "809c4810-e235-4b7d-abcf-02c5137ddfb9",
   "metadata": {},
   "outputs": [],
   "source": [
    "# List of valid party names\n",
    "valid_parties = [\"DIE LINKE\", \"Bündnis 90/Die Grünen\", \"SPD\", \"CSU\", \"CDU\", \"FDP\", \"AfD\"]\n",
    "\n",
    "\n",
    "# Function to map party names\n",
    "def map_parties(party):\n",
    "    if party in valid_parties:\n",
    "        return party\n",
    "    else:\n",
    "        return \"Keine Kategorie\"\n",
    "\n",
    "# Apply the function to the 'Party' column\n",
    "df.loc[:,'party'] = df['party'].apply(map_parties)"
   ]
  },
  {
   "cell_type": "code",
   "execution_count": 104,
   "id": "a9337fed-c377-4efd-ae4f-999ecf768a6f",
   "metadata": {},
   "outputs": [
    {
     "name": "stdout",
     "output_type": "stream",
     "text": [
      "Unique Parties: ['SPD' 'DIE LINKE' 'CSU' 'AfD' 'Bündnis 90/Die Grünen' 'FDP' 'CDU'\n",
      " 'Keine Kategorie']\n",
      "\n",
      "Value counts:\n",
      " party\n",
      "SPD                      417\n",
      "Bündnis 90/Die Grünen    380\n",
      "CDU                      314\n",
      "FDP                      199\n",
      "AfD                      190\n",
      "DIE LINKE                165\n",
      "Keine Kategorie          127\n",
      "CSU                       68\n",
      "Name: count, dtype: int64\n"
     ]
    }
   ],
   "source": [
    "analyze_party_distribution(df['party'])"
   ]
  },
  {
   "cell_type": "markdown",
   "id": "6075557f-88e5-4cdf-be27-5672b7b548e4",
   "metadata": {},
   "source": [
    "### Map partys to label"
   ]
  },
  {
   "cell_type": "code",
   "execution_count": 105,
   "id": "15bb7401-bd11-43cd-98bb-1fb17e57914f",
   "metadata": {},
   "outputs": [],
   "source": [
    "df.loc[:,\"label\"] = df[\"party\"].map(party2id.get)"
   ]
  },
  {
   "cell_type": "code",
   "execution_count": 106,
   "id": "0b8f77a3-15d5-4fe1-8b30-1d7091ffb751",
   "metadata": {},
   "outputs": [],
   "source": [
    "# just to be sure that theres no na value and every value is an integer\n",
    "# drop everything except of profile description and label\n",
    "df = df[df['label'].notna()]\n",
    "df['label'] = df['label'].astype(int)\n",
    "df = df[['profile', 'label']]"
   ]
  },
  {
   "cell_type": "code",
   "execution_count": 107,
   "id": "4b2689a3-8d89-416b-9ce7-20d06ee9f2eb",
   "metadata": {},
   "outputs": [
    {
     "data": {
      "text/html": [
       "<div>\n",
       "<style scoped>\n",
       "    .dataframe tbody tr th:only-of-type {\n",
       "        vertical-align: middle;\n",
       "    }\n",
       "\n",
       "    .dataframe tbody tr th {\n",
       "        vertical-align: top;\n",
       "    }\n",
       "\n",
       "    .dataframe thead th {\n",
       "        text-align: right;\n",
       "    }\n",
       "</style>\n",
       "<table border=\"1\" class=\"dataframe\">\n",
       "  <thead>\n",
       "    <tr style=\"text-align: right;\">\n",
       "      <th></th>\n",
       "      <th>profile</th>\n",
       "      <th>label</th>\n",
       "    </tr>\n",
       "  </thead>\n",
       "  <tbody>\n",
       "    <tr>\n",
       "      <th>0</th>\n",
       "      <td>Ministerin für Wissenschaft, Forschung und Kul...</td>\n",
       "      <td>2</td>\n",
       "    </tr>\n",
       "    <tr>\n",
       "      <th>1</th>\n",
       "      <td>hier twittert das Team von Petra Pau/Marzahn-H...</td>\n",
       "      <td>0</td>\n",
       "    </tr>\n",
       "    <tr>\n",
       "      <th>2</th>\n",
       "      <td>Hier tweetet, textet und publiziert das Team d...</td>\n",
       "      <td>2</td>\n",
       "    </tr>\n",
       "    <tr>\n",
       "      <th>3</th>\n",
       "      <td>Mitglied im Verteidigungsausschuss 🇺🇦 \\nMitgli...</td>\n",
       "      <td>3</td>\n",
       "    </tr>\n",
       "    <tr>\n",
       "      <th>4</th>\n",
       "      <td>SPD Bundestagskandidat für Bamberg und Forchhe...</td>\n",
       "      <td>2</td>\n",
       "    </tr>\n",
       "  </tbody>\n",
       "</table>\n",
       "</div>"
      ],
      "text/plain": [
       "                                             profile  label\n",
       "0  Ministerin für Wissenschaft, Forschung und Kul...      2\n",
       "1  hier twittert das Team von Petra Pau/Marzahn-H...      0\n",
       "2  Hier tweetet, textet und publiziert das Team d...      2\n",
       "3  Mitglied im Verteidigungsausschuss 🇺🇦 \\nMitgli...      3\n",
       "4  SPD Bundestagskandidat für Bamberg und Forchhe...      2"
      ]
     },
     "execution_count": 107,
     "metadata": {},
     "output_type": "execute_result"
    }
   ],
   "source": [
    "df.head()"
   ]
  },
  {
   "cell_type": "markdown",
   "id": "477dce6d-afef-4dad-a5e8-dca338b4f4f8",
   "metadata": {},
   "source": [
    "#### Converting emojis to text using pip package emoji"
   ]
  },
  {
   "cell_type": "code",
   "execution_count": 108,
   "id": "e3695653-d72c-4df0-a12e-d529e89d4bea",
   "metadata": {},
   "outputs": [],
   "source": [
    "import emoji\n",
    "import string\n",
    "import re\n",
    "\n",
    "def demojize(text):\n",
    "    # Convert emoji to text\n",
    "    processed_text = emoji.demojize(text, language='de')\n",
    "    # Remove ':' from converting the emojis to text\n",
    "    for char in string.punctuation.replace('.', ''):\n",
    "        processed_text = processed_text.replace(char, ' ')\n",
    "    # Remove trailing whitespace\n",
    "    processed_text = re.sub(r'\\s+', ' ', processed_text).strip()\n",
    "    return processed_text\n",
    "\n",
    "df['profile'] = df['profile'].apply(lambda x: demojize(x))"
   ]
  },
  {
   "cell_type": "code",
   "execution_count": 109,
   "id": "ca2cb4a2-5701-446f-b03f-6b58883a0fd5",
   "metadata": {},
   "outputs": [
    {
     "data": {
      "text/plain": [
       "'hier twittert das Team von Petra Pau Marzahn Hellersdorf mahe PAUer für die LINKE'"
      ]
     },
     "execution_count": 109,
     "metadata": {},
     "output_type": "execute_result"
    }
   ],
   "source": [
    "df['profile'][1]"
   ]
  },
  {
   "cell_type": "code",
   "execution_count": 110,
   "id": "2d94e6aa-d447-4f76-a022-b8b9cf5eb72c",
   "metadata": {},
   "outputs": [],
   "source": [
    "# Load the BERT tokenizer\n",
    "#pretrained_LM = \"dbmdz/bert-base-german-cased\"\n",
    "#pretrained_LM = \"bert-base-german-cased\"\n",
    "#pretrained_LM = \"distilbert-base-german-cased\"\n",
    "pretrained_LM = \"distilbert-base-multilingual-cased\"\n",
    "tokenizer = AutoTokenizer.from_pretrained(pretrained_LM)\n",
    "\n",
    "def tokenize_function(examples):\n",
    "    return tokenizer(examples[\"profile\"], padding=\"max_length\", truncation=True, return_tensors=\"pt\")"
   ]
  },
  {
   "cell_type": "code",
   "execution_count": 111,
   "id": "e504c928-3374-4d8d-b5d8-fedb7777318a",
   "metadata": {},
   "outputs": [],
   "source": [
    "# Split into training and testing data\n",
    "training_data = df.sample(frac=0.8, random_state=25)\n",
    "testing_data = df.drop(training_data.index)"
   ]
  },
  {
   "cell_type": "code",
   "execution_count": 112,
   "id": "987aea14-7831-40ef-b49a-d3302da8d26e",
   "metadata": {},
   "outputs": [
    {
     "data": {
      "application/vnd.jupyter.widget-view+json": {
       "model_id": "3513d9e5823d447dbc66ecafca1a7fd7",
       "version_major": 2,
       "version_minor": 0
      },
      "text/plain": [
       "Map:   0%|          | 0/1488 [00:00<?, ? examples/s]"
      ]
     },
     "metadata": {},
     "output_type": "display_data"
    },
    {
     "data": {
      "application/vnd.jupyter.widget-view+json": {
       "model_id": "dbfbe053d3844122ae08c567b4e067f6",
       "version_major": 2,
       "version_minor": 0
      },
      "text/plain": [
       "Map:   0%|          | 0/372 [00:00<?, ? examples/s]"
      ]
     },
     "metadata": {},
     "output_type": "display_data"
    }
   ],
   "source": [
    "# Load datasets\n",
    "training_data = Dataset.from_pandas(training_data)\n",
    "testing_data = Dataset.from_pandas(testing_data)\n",
    "\n",
    "tokenized_training_data = training_data.map(tokenize_function, batched=True)\n",
    "tokenized_testing_data = testing_data.map(tokenize_function, batched=True)"
   ]
  },
  {
   "cell_type": "code",
   "execution_count": 113,
   "id": "3b512da3-35b0-4f11-896e-5e37bf778627",
   "metadata": {},
   "outputs": [
    {
     "data": {
      "text/plain": [
       "DataCollatorWithPadding(tokenizer=DistilBertTokenizerFast(name_or_path='distilbert-base-multilingual-cased', vocab_size=119547, model_max_length=512, is_fast=True, padding_side='right', truncation_side='right', special_tokens={'unk_token': '[UNK]', 'sep_token': '[SEP]', 'pad_token': '[PAD]', 'cls_token': '[CLS]', 'mask_token': '[MASK]'}, clean_up_tokenization_spaces=True), padding=True, max_length=None, pad_to_multiple_of=None, return_tensors='pt')"
      ]
     },
     "execution_count": 113,
     "metadata": {},
     "output_type": "execute_result"
    }
   ],
   "source": [
    "from transformers import DataCollatorWithPadding\n",
    "data_collator = DataCollatorWithPadding(tokenizer=tokenizer)\n",
    "data_collator"
   ]
  },
  {
   "cell_type": "code",
   "execution_count": 114,
   "id": "2a3cafb7-7c50-4f57-994b-1ee8d40934f5",
   "metadata": {},
   "outputs": [],
   "source": [
    "from sklearn.metrics import precision_recall_fscore_support, accuracy_score\n",
    "\n",
    "# Good link about which average to choose: https://simonhessner.de/why-are-precision-recall-and-f1-score-equal-when-using-micro-averaging-in-a-multi-class-problem/\n",
    "# micro: Calculate metrics globally by counting the total true positives, false negatives and false positives.\n",
    "# macro: Calculate metrics for each label, and find their unweighted mean. This does not take label imbalance into account.\n",
    "\n",
    "def compute_metrics(pred):\n",
    "    labels = pred.label_ids\n",
    "    preds = pred.predictions.argmax(-1)\n",
    "    precision, recall, f1, _ = precision_recall_fscore_support(labels, preds, average='macro')\n",
    "    acc = accuracy_score(labels, preds)\n",
    "    return {\n",
    "        'accuracy': acc,\n",
    "        'f1': f1,\n",
    "        'precision': precision,\n",
    "        'recall': recall\n",
    "    }"
   ]
  },
  {
   "cell_type": "code",
   "execution_count": 115,
   "id": "9bd9a525-f481-448d-9384-e1210d20782d",
   "metadata": {},
   "outputs": [
    {
     "data": {
      "application/vnd.jupyter.widget-view+json": {
       "model_id": "8e87c3009f1246939adf74f30d5c0a6e",
       "version_major": 2,
       "version_minor": 0
      },
      "text/plain": [
       "Downloading model.safetensors:   0%|          | 0.00/542M [00:00<?, ?B/s]"
      ]
     },
     "metadata": {},
     "output_type": "display_data"
    },
    {
     "name": "stderr",
     "output_type": "stream",
     "text": [
      "Some weights of DistilBertForSequenceClassification were not initialized from the model checkpoint at distilbert-base-multilingual-cased and are newly initialized: ['pre_classifier.weight', 'classifier.bias', 'classifier.weight', 'pre_classifier.bias']\n",
      "You should probably TRAIN this model on a down-stream task to be able to use it for predictions and inference.\n"
     ]
    }
   ],
   "source": [
    "from transformers import AutoModelForSequenceClassification, TrainingArguments, Trainer\n",
    "\n",
    "# Model and training setup\n",
    "model = AutoModelForSequenceClassification.from_pretrained(\n",
    "    pretrained_LM, num_labels=7\n",
    ")"
   ]
  },
  {
   "cell_type": "code",
   "execution_count": 116,
   "id": "5c37ff93-8e80-4da3-b6b9-230104248b59",
   "metadata": {},
   "outputs": [
    {
     "data": {
      "text/plain": [
       "69"
      ]
     },
     "execution_count": 116,
     "metadata": {},
     "output_type": "execute_result"
    }
   ],
   "source": [
    "import gc\n",
    "torch.cuda.empty_cache()\n",
    "gc.collect()"
   ]
  },
  {
   "cell_type": "code",
   "execution_count": 117,
   "id": "76eb9d94-e7f9-4e86-8dcf-366fb52247be",
   "metadata": {},
   "outputs": [],
   "source": [
    "training_args = TrainingArguments(\n",
    "    output_dir=\"bert_full\",\n",
    "    learning_rate=2e-5,\n",
    "    per_device_train_batch_size=16,\n",
    "    per_device_eval_batch_size=16,\n",
    "    num_train_epochs=10,\n",
    "    weight_decay=0.01,\n",
    "    warmup_steps=150,               # number of warmup steps for learning rate \n",
    "    evaluation_strategy=\"epoch\",\n",
    "    save_strategy=\"epoch\",\n",
    "    load_best_model_at_end=True,\n",
    "    push_to_hub=False,\n",
    "    #label_names=[\"LABEL\"],\n",
    ")\n",
    "\n",
    "trainer = Trainer(\n",
    "    model=model,\n",
    "    args=training_args,\n",
    "    train_dataset=tokenized_training_data,\n",
    "    eval_dataset=tokenized_testing_data,\n",
    "    tokenizer=tokenizer,\n",
    "    data_collator=data_collator,\n",
    "    compute_metrics=compute_metrics  \n",
    ")"
   ]
  },
  {
   "cell_type": "code",
   "execution_count": 118,
   "id": "357541cb-a592-44b4-a9e6-73c431421581",
   "metadata": {},
   "outputs": [
    {
     "name": "stderr",
     "output_type": "stream",
     "text": [
      "You're using a DistilBertTokenizerFast tokenizer. Please note that with a fast tokenizer, using the `__call__` method is faster than using a method to encode the text followed by a call to the `pad` method to get a padded encoding.\n"
     ]
    },
    {
     "data": {
      "text/html": [
       "\n",
       "    <div>\n",
       "      \n",
       "      <progress value='930' max='930' style='width:300px; height:20px; vertical-align: middle;'></progress>\n",
       "      [930/930 06:08, Epoch 10/10]\n",
       "    </div>\n",
       "    <table border=\"1\" class=\"dataframe\">\n",
       "  <thead>\n",
       " <tr style=\"text-align: left;\">\n",
       "      <th>Epoch</th>\n",
       "      <th>Training Loss</th>\n",
       "      <th>Validation Loss</th>\n",
       "      <th>Accuracy</th>\n",
       "      <th>F1</th>\n",
       "      <th>Precision</th>\n",
       "      <th>Recall</th>\n",
       "    </tr>\n",
       "  </thead>\n",
       "  <tbody>\n",
       "    <tr>\n",
       "      <td>1</td>\n",
       "      <td>No log</td>\n",
       "      <td>1.817017</td>\n",
       "      <td>0.284946</td>\n",
       "      <td>0.136308</td>\n",
       "      <td>0.134747</td>\n",
       "      <td>0.182869</td>\n",
       "    </tr>\n",
       "    <tr>\n",
       "      <td>2</td>\n",
       "      <td>No log</td>\n",
       "      <td>0.984333</td>\n",
       "      <td>0.723118</td>\n",
       "      <td>0.694315</td>\n",
       "      <td>0.762528</td>\n",
       "      <td>0.661898</td>\n",
       "    </tr>\n",
       "    <tr>\n",
       "      <td>3</td>\n",
       "      <td>No log</td>\n",
       "      <td>0.673762</td>\n",
       "      <td>0.760753</td>\n",
       "      <td>0.735812</td>\n",
       "      <td>0.752589</td>\n",
       "      <td>0.732536</td>\n",
       "    </tr>\n",
       "    <tr>\n",
       "      <td>4</td>\n",
       "      <td>No log</td>\n",
       "      <td>0.642384</td>\n",
       "      <td>0.779570</td>\n",
       "      <td>0.762670</td>\n",
       "      <td>0.777531</td>\n",
       "      <td>0.756739</td>\n",
       "    </tr>\n",
       "    <tr>\n",
       "      <td>5</td>\n",
       "      <td>No log</td>\n",
       "      <td>0.678555</td>\n",
       "      <td>0.790323</td>\n",
       "      <td>0.772735</td>\n",
       "      <td>0.790513</td>\n",
       "      <td>0.760590</td>\n",
       "    </tr>\n",
       "    <tr>\n",
       "      <td>6</td>\n",
       "      <td>0.905300</td>\n",
       "      <td>0.708776</td>\n",
       "      <td>0.798387</td>\n",
       "      <td>0.779663</td>\n",
       "      <td>0.792624</td>\n",
       "      <td>0.770188</td>\n",
       "    </tr>\n",
       "    <tr>\n",
       "      <td>7</td>\n",
       "      <td>0.905300</td>\n",
       "      <td>0.759968</td>\n",
       "      <td>0.798387</td>\n",
       "      <td>0.777701</td>\n",
       "      <td>0.791321</td>\n",
       "      <td>0.769989</td>\n",
       "    </tr>\n",
       "    <tr>\n",
       "      <td>8</td>\n",
       "      <td>0.905300</td>\n",
       "      <td>0.790577</td>\n",
       "      <td>0.795699</td>\n",
       "      <td>0.775141</td>\n",
       "      <td>0.787366</td>\n",
       "      <td>0.768500</td>\n",
       "    </tr>\n",
       "    <tr>\n",
       "      <td>9</td>\n",
       "      <td>0.905300</td>\n",
       "      <td>0.825771</td>\n",
       "      <td>0.793011</td>\n",
       "      <td>0.774885</td>\n",
       "      <td>0.791458</td>\n",
       "      <td>0.764263</td>\n",
       "    </tr>\n",
       "    <tr>\n",
       "      <td>10</td>\n",
       "      <td>0.905300</td>\n",
       "      <td>0.830440</td>\n",
       "      <td>0.798387</td>\n",
       "      <td>0.779389</td>\n",
       "      <td>0.796739</td>\n",
       "      <td>0.767881</td>\n",
       "    </tr>\n",
       "  </tbody>\n",
       "</table><p>"
      ],
      "text/plain": [
       "<IPython.core.display.HTML object>"
      ]
     },
     "metadata": {},
     "output_type": "display_data"
    },
    {
     "name": "stderr",
     "output_type": "stream",
     "text": [
      "/software/jupyter/conda/envs/jupyter/lib/python3.11/site-packages/sklearn/metrics/_classification.py:1344: UndefinedMetricWarning: Precision and F-score are ill-defined and being set to 0.0 in labels with no predicted samples. Use `zero_division` parameter to control this behavior.\n",
      "  _warn_prf(average, modifier, msg_start, len(result))\n"
     ]
    },
    {
     "data": {
      "text/plain": [
       "TrainOutput(global_step=930, training_loss=0.523200176608178, metrics={'train_runtime': 368.6652, 'train_samples_per_second': 40.362, 'train_steps_per_second': 2.523, 'total_flos': 1971290652180480.0, 'train_loss': 0.523200176608178, 'epoch': 10.0})"
      ]
     },
     "execution_count": 118,
     "metadata": {},
     "output_type": "execute_result"
    }
   ],
   "source": [
    "#checkpointing\n",
    "#use cuda\n",
    "trainer.train()"
   ]
  },
  {
   "cell_type": "markdown",
   "id": "0a0b2cd0-c64b-438f-850f-5155ed2ff65f",
   "metadata": {},
   "source": [
    "## Evaluation on labelled test data set, 200 profile descriptions"
   ]
  },
  {
   "cell_type": "code",
   "execution_count": 119,
   "id": "52b05a74-8253-4d02-a7c8-406ed0579cbc",
   "metadata": {},
   "outputs": [],
   "source": [
    "# Load CSV into a Pandas DataFrame\n",
    "df_eval = pd.read_csv('labeled_testdata_bert.csv')\n",
    "df_eval = df_eval[['example', 'label']]\n",
    "df_eval = df_eval[df_eval['label'].notna()]\n",
    "df_eval['label'] = df_eval['label'].astype(int)\n",
    "# Rename the 'example' column to 'profile'\n",
    "df_eval.rename(columns={'example': 'profile'}, inplace=True)"
   ]
  },
  {
   "cell_type": "code",
   "execution_count": 120,
   "id": "5e4ace31-06ab-4a18-8c18-cc33e319c231",
   "metadata": {},
   "outputs": [
    {
     "name": "stdout",
     "output_type": "stream",
     "text": [
      "label\n",
      "6    77\n",
      "1    28\n",
      "3    27\n",
      "5    24\n",
      "2    23\n",
      "4    11\n",
      "0    10\n",
      "Name: count, dtype: int64\n"
     ]
    }
   ],
   "source": [
    "label_counts = df_eval['label'].value_counts()\n",
    "print(label_counts)"
   ]
  },
  {
   "cell_type": "code",
   "execution_count": 121,
   "id": "8c115d0d-8e67-49f9-9689-10d5c37287ef",
   "metadata": {},
   "outputs": [
    {
     "data": {
      "text/html": [
       "<div>\n",
       "<style scoped>\n",
       "    .dataframe tbody tr th:only-of-type {\n",
       "        vertical-align: middle;\n",
       "    }\n",
       "\n",
       "    .dataframe tbody tr th {\n",
       "        vertical-align: top;\n",
       "    }\n",
       "\n",
       "    .dataframe thead th {\n",
       "        text-align: right;\n",
       "    }\n",
       "</style>\n",
       "<table border=\"1\" class=\"dataframe\">\n",
       "  <thead>\n",
       "    <tr style=\"text-align: right;\">\n",
       "      <th></th>\n",
       "      <th>profile</th>\n",
       "      <th>label</th>\n",
       "    </tr>\n",
       "  </thead>\n",
       "  <tbody>\n",
       "    <tr>\n",
       "      <th>0</th>\n",
       "      <td>Offizieller Twitter Account von Außenministeri...</td>\n",
       "      <td>1</td>\n",
       "    </tr>\n",
       "    <tr>\n",
       "      <th>1</th>\n",
       "      <td>Dies ist ein Archiv des Twitter-Accounts von A...</td>\n",
       "      <td>1</td>\n",
       "    </tr>\n",
       "    <tr>\n",
       "      <th>2</th>\n",
       "      <td>Landtagsabgeordnete der @cdufraktionmv, stellv...</td>\n",
       "      <td>3</td>\n",
       "    </tr>\n",
       "    <tr>\n",
       "      <th>3</th>\n",
       "      <td>Finanzsenator der Freien und Hansestadt Hambur...</td>\n",
       "      <td>2</td>\n",
       "    </tr>\n",
       "    <tr>\n",
       "      <th>4</th>\n",
       "      <td>Vorstehender der Bundestagsfraktion der Altern...</td>\n",
       "      <td>5</td>\n",
       "    </tr>\n",
       "    <tr>\n",
       "      <th>...</th>\n",
       "      <td>...</td>\n",
       "      <td>...</td>\n",
       "    </tr>\n",
       "    <tr>\n",
       "      <th>195</th>\n",
       "      <td>Sprecherin für Familie und Bildung der @gruene...</td>\n",
       "      <td>1</td>\n",
       "    </tr>\n",
       "    <tr>\n",
       "      <th>196</th>\n",
       "      <td>stellv. Vorsitzender Eisenbahn- und Verkehrsge...</td>\n",
       "      <td>2</td>\n",
       "    </tr>\n",
       "    <tr>\n",
       "      <th>197</th>\n",
       "      <td>Mitglied des Europäischen Parlaments</td>\n",
       "      <td>6</td>\n",
       "    </tr>\n",
       "    <tr>\n",
       "      <th>198</th>\n",
       "      <td>#MdL, Parlamentarischer Geschäftsführer und Sp...</td>\n",
       "      <td>1</td>\n",
       "    </tr>\n",
       "    <tr>\n",
       "      <th>199</th>\n",
       "      <td>Die #CDU ist die Volkspartei der Mitte. Seit 1...</td>\n",
       "      <td>3</td>\n",
       "    </tr>\n",
       "  </tbody>\n",
       "</table>\n",
       "<p>200 rows × 2 columns</p>\n",
       "</div>"
      ],
      "text/plain": [
       "                                               profile  label\n",
       "0    Offizieller Twitter Account von Außenministeri...      1\n",
       "1    Dies ist ein Archiv des Twitter-Accounts von A...      1\n",
       "2    Landtagsabgeordnete der @cdufraktionmv, stellv...      3\n",
       "3    Finanzsenator der Freien und Hansestadt Hambur...      2\n",
       "4    Vorstehender der Bundestagsfraktion der Altern...      5\n",
       "..                                                 ...    ...\n",
       "195  Sprecherin für Familie und Bildung der @gruene...      1\n",
       "196  stellv. Vorsitzender Eisenbahn- und Verkehrsge...      2\n",
       "197               Mitglied des Europäischen Parlaments      6\n",
       "198  #MdL, Parlamentarischer Geschäftsführer und Sp...      1\n",
       "199  Die #CDU ist die Volkspartei der Mitte. Seit 1...      3\n",
       "\n",
       "[200 rows x 2 columns]"
      ]
     },
     "execution_count": 121,
     "metadata": {},
     "output_type": "execute_result"
    }
   ],
   "source": [
    "df_eval"
   ]
  },
  {
   "cell_type": "code",
   "execution_count": 122,
   "id": "dedcb286-fa29-4c95-8ce2-0de10638e389",
   "metadata": {},
   "outputs": [
    {
     "data": {
      "application/vnd.jupyter.widget-view+json": {
       "model_id": "19c4434b070a4a00bf8bf3422d00a0df",
       "version_major": 2,
       "version_minor": 0
      },
      "text/plain": [
       "Map:   0%|          | 0/200 [00:00<?, ? examples/s]"
      ]
     },
     "metadata": {},
     "output_type": "display_data"
    },
    {
     "data": {
      "text/plain": [
       "DistilBertForSequenceClassification(\n",
       "  (distilbert): DistilBertModel(\n",
       "    (embeddings): Embeddings(\n",
       "      (word_embeddings): Embedding(119547, 768, padding_idx=0)\n",
       "      (position_embeddings): Embedding(512, 768)\n",
       "      (LayerNorm): LayerNorm((768,), eps=1e-12, elementwise_affine=True)\n",
       "      (dropout): Dropout(p=0.1, inplace=False)\n",
       "    )\n",
       "    (transformer): Transformer(\n",
       "      (layer): ModuleList(\n",
       "        (0-5): 6 x TransformerBlock(\n",
       "          (attention): MultiHeadSelfAttention(\n",
       "            (dropout): Dropout(p=0.1, inplace=False)\n",
       "            (q_lin): Linear(in_features=768, out_features=768, bias=True)\n",
       "            (k_lin): Linear(in_features=768, out_features=768, bias=True)\n",
       "            (v_lin): Linear(in_features=768, out_features=768, bias=True)\n",
       "            (out_lin): Linear(in_features=768, out_features=768, bias=True)\n",
       "          )\n",
       "          (sa_layer_norm): LayerNorm((768,), eps=1e-12, elementwise_affine=True)\n",
       "          (ffn): FFN(\n",
       "            (dropout): Dropout(p=0.1, inplace=False)\n",
       "            (lin1): Linear(in_features=768, out_features=3072, bias=True)\n",
       "            (lin2): Linear(in_features=3072, out_features=768, bias=True)\n",
       "            (activation): GELUActivation()\n",
       "          )\n",
       "          (output_layer_norm): LayerNorm((768,), eps=1e-12, elementwise_affine=True)\n",
       "        )\n",
       "      )\n",
       "    )\n",
       "  )\n",
       "  (pre_classifier): Linear(in_features=768, out_features=768, bias=True)\n",
       "  (classifier): Linear(in_features=768, out_features=7, bias=True)\n",
       "  (dropout): Dropout(p=0.2, inplace=False)\n",
       ")"
      ]
     },
     "execution_count": 122,
     "metadata": {},
     "output_type": "execute_result"
    }
   ],
   "source": [
    "df_eval['profile'] = df_eval['profile'].apply(lambda x: demojize(x))\n",
    "eval_data = Dataset.from_pandas(df_eval)\n",
    "tokenized_eval_data = eval_data.map(tokenize_function, batched=True)\n",
    "# put in testing mode (dropout modules are deactivated)\n",
    "model.eval() "
   ]
  },
  {
   "cell_type": "code",
   "execution_count": 123,
   "id": "83b18423-f05c-4402-a438-ca49fccf8363",
   "metadata": {},
   "outputs": [
    {
     "data": {
      "text/html": [],
      "text/plain": [
       "<IPython.core.display.HTML object>"
      ]
     },
     "metadata": {},
     "output_type": "display_data"
    },
    {
     "data": {
      "text/plain": [
       "PredictionOutput(predictions=array([[ 1.99773954e-03, -4.13172394e-01, -1.07267988e+00, ...,\n",
       "        -8.57515037e-01, -4.70943034e-01,  2.11565208e+00],\n",
       "       [ 1.23985484e-01, -1.11623347e+00, -1.57514557e-01, ...,\n",
       "        -1.01788104e+00, -1.01607606e-01,  1.69604027e+00],\n",
       "       [-1.31383824e+00, -1.24294484e+00, -5.80123484e-01, ...,\n",
       "        -1.28265870e+00, -7.13598132e-01, -9.98899579e-01],\n",
       "       ...,\n",
       "       [-6.52879849e-02, -1.98258176e-01, -8.07147145e-01, ...,\n",
       "        -6.53106570e-01,  1.14889777e+00,  2.87228614e-01],\n",
       "       [-1.39963239e-01,  4.44869137e+00, -6.10823154e-01, ...,\n",
       "        -5.70658028e-01, -1.44613421e+00, -5.64688146e-01],\n",
       "       [-1.15253246e+00, -1.32238626e+00, -8.69843543e-01, ...,\n",
       "        -1.22957623e+00, -6.77889645e-01, -7.92777658e-01]], dtype=float32), label_ids=array([1, 1, 3, 2, 5, 2, 4, 2, 6, 2, 3, 6, 3, 3, 4, 6, 6, 2, 6, 5, 5, 6,\n",
       "       5, 5, 5, 5, 5, 5, 5, 5, 5, 2, 3, 2, 3, 6, 1, 4, 5, 6, 3, 6, 6, 1,\n",
       "       1, 6, 4, 6, 5, 3, 2, 2, 0, 5, 1, 4, 3, 6, 5, 3, 2, 3, 3, 6, 0, 6,\n",
       "       5, 6, 1, 4, 2, 3, 0, 6, 6, 6, 3, 2, 6, 2, 1, 1, 1, 4, 6, 3, 1, 2,\n",
       "       3, 0, 1, 5, 6, 4, 6, 6, 1, 5, 2, 6, 6, 1, 0, 6, 6, 3, 6, 6, 6, 2,\n",
       "       1, 1, 6, 6, 6, 6, 6, 6, 4, 6, 6, 6, 6, 1, 6, 1, 6, 4, 2, 1, 3, 2,\n",
       "       5, 6, 3, 6, 6, 6, 6, 2, 6, 6, 6, 6, 6, 6, 1, 6, 2, 0, 3, 5, 1, 2,\n",
       "       3, 0, 6, 6, 6, 6, 1, 6, 6, 6, 6, 1, 5, 6, 6, 6, 5, 3, 6, 0, 6, 2,\n",
       "       6, 3, 6, 1, 6, 3, 3, 1, 6, 1, 6, 4, 0, 5, 6, 3, 0, 6, 6, 1, 2, 6,\n",
       "       1, 3]), metrics={'test_loss': 0.8728187680244446, 'test_accuracy': 0.74, 'test_f1': 0.7885346148777538, 'test_precision': 0.7747144120806216, 'test_recall': 0.859702466845324, 'test_runtime': 1.4294, 'test_samples_per_second': 139.918, 'test_steps_per_second': 9.095})"
      ]
     },
     "execution_count": 123,
     "metadata": {},
     "output_type": "execute_result"
    }
   ],
   "source": [
    "trainer.predict(tokenized_eval_data)"
   ]
  },
  {
   "cell_type": "code",
   "execution_count": null,
   "id": "766de982-a20c-4d43-9139-4ffd6fbbee26",
   "metadata": {},
   "outputs": [],
   "source": []
  }
 ],
 "metadata": {
  "kernelspec": {
   "display_name": "Python 3.11",
   "language": "python",
   "name": "python3"
  },
  "language_info": {
   "codemirror_mode": {
    "name": "ipython",
    "version": 3
   },
   "file_extension": ".py",
   "mimetype": "text/x-python",
   "name": "python",
   "nbconvert_exporter": "python",
   "pygments_lexer": "ipython3",
   "version": "3.11.0"
  }
 },
 "nbformat": 4,
 "nbformat_minor": 5
}
